{
 "cells": [
  {
   "cell_type": "code",
   "execution_count": 1,
   "metadata": {
    "ExecuteTime": {
     "end_time": "2019-06-24T11:33:17.023274Z",
     "start_time": "2019-06-24T11:33:14.520135Z"
    },
    "collapsed": true
   },
   "outputs": [],
   "source": [
    "import numpy as np\n",
    "import matplotlib.pyplot as plt\n",
    "import pandas as pd\n",
    "%matplotlib inline"
   ]
  },
  {
   "cell_type": "code",
   "execution_count": 207,
   "metadata": {
    "ExecuteTime": {
     "end_time": "2019-06-25T10:09:25.723772Z",
     "start_time": "2019-06-25T10:09:25.719394Z"
    },
    "collapsed": true
   },
   "outputs": [],
   "source": [
    "pd.set_option('display.max_rows', 500)"
   ]
  },
  {
   "cell_type": "markdown",
   "metadata": {},
   "source": [
    "## 1. repalce the missing values "
   ]
  },
  {
   "cell_type": "code",
   "execution_count": 114,
   "metadata": {
    "ExecuteTime": {
     "end_time": "2019-06-17T13:25:10.562900Z",
     "start_time": "2019-06-17T13:25:07.603163Z"
    },
    "collapsed": true,
    "scrolled": true
   },
   "outputs": [],
   "source": [
    "df = pd.read_csv('/users/zhengyiliang/Desktop/data&code/douban_book_collections/7digits_others/book_first_space.csv')"
   ]
  },
  {
   "cell_type": "code",
   "execution_count": 116,
   "metadata": {
    "ExecuteTime": {
     "end_time": "2019-06-17T13:25:16.062096Z",
     "start_time": "2019-06-17T13:25:16.040867Z"
    },
    "scrolled": true
   },
   "outputs": [
    {
     "data": {
      "text/html": [
       "<div>\n",
       "<style>\n",
       "    .dataframe thead tr:only-child th {\n",
       "        text-align: right;\n",
       "    }\n",
       "\n",
       "    .dataframe thead th {\n",
       "        text-align: left;\n",
       "    }\n",
       "\n",
       "    .dataframe tbody tr th {\n",
       "        vertical-align: top;\n",
       "    }\n",
       "</style>\n",
       "<table border=\"1\" class=\"dataframe\">\n",
       "  <thead>\n",
       "    <tr style=\"text-align: right;\">\n",
       "      <th></th>\n",
       "      <th>User_ID</th>\n",
       "      <th>book_id</th>\n",
       "      <th>rating</th>\n",
       "      <th>status</th>\n",
       "      <th>tag</th>\n",
       "      <th>title</th>\n",
       "      <th>total</th>\n",
       "      <th>updated_time</th>\n",
       "    </tr>\n",
       "  </thead>\n",
       "  <tbody>\n",
       "    <tr>\n",
       "      <th>1</th>\n",
       "      <td>1000860</td>\n",
       "      <td>1036274.0</td>\n",
       "      <td>8.5</td>\n",
       "      <td>wish</td>\n",
       "      <td>童话</td>\n",
       "      <td>夏洛的网</td>\n",
       "      <td>182</td>\n",
       "      <td>2019-02-13 01:01:29</td>\n",
       "    </tr>\n",
       "    <tr>\n",
       "      <th>2</th>\n",
       "      <td>1000860</td>\n",
       "      <td>27608239.0</td>\n",
       "      <td>8.4</td>\n",
       "      <td>reading</td>\n",
       "      <td>思维</td>\n",
       "      <td>原则</td>\n",
       "      <td>182</td>\n",
       "      <td>2018-03-09 22:40:59</td>\n",
       "    </tr>\n",
       "    <tr>\n",
       "      <th>3</th>\n",
       "      <td>1000860</td>\n",
       "      <td>25975454.0</td>\n",
       "      <td>7.8</td>\n",
       "      <td>wish</td>\n",
       "      <td>创业</td>\n",
       "      <td>九败一胜</td>\n",
       "      <td>182</td>\n",
       "      <td>2014-09-16 17:32:27</td>\n",
       "    </tr>\n",
       "    <tr>\n",
       "      <th>4</th>\n",
       "      <td>1000860</td>\n",
       "      <td>25942507.0</td>\n",
       "      <td>7.5</td>\n",
       "      <td>wish</td>\n",
       "      <td>营销</td>\n",
       "      <td>参与感</td>\n",
       "      <td>182</td>\n",
       "      <td>2014-08-15 22:53:37</td>\n",
       "    </tr>\n",
       "    <tr>\n",
       "      <th>5</th>\n",
       "      <td>1000860</td>\n",
       "      <td>10571271.0</td>\n",
       "      <td>6.6</td>\n",
       "      <td>wish</td>\n",
       "      <td>创业</td>\n",
       "      <td>我为什么要投资你</td>\n",
       "      <td>182</td>\n",
       "      <td>2013-01-11 12:19:30</td>\n",
       "    </tr>\n",
       "  </tbody>\n",
       "</table>\n",
       "</div>"
      ],
      "text/plain": [
       "   User_ID     book_id  rating   status tag     title  total  \\\n",
       "1  1000860   1036274.0     8.5     wish  童话      夏洛的网    182   \n",
       "2  1000860  27608239.0     8.4  reading  思维        原则    182   \n",
       "3  1000860  25975454.0     7.8     wish  创业      九败一胜    182   \n",
       "4  1000860  25942507.0     7.5     wish  营销       参与感    182   \n",
       "5  1000860  10571271.0     6.6     wish  创业  我为什么要投资你    182   \n",
       "\n",
       "          updated_time  \n",
       "1  2019-02-13 01:01:29  \n",
       "2  2018-03-09 22:40:59  \n",
       "3  2014-09-16 17:32:27  \n",
       "4  2014-08-15 22:53:37  \n",
       "5  2013-01-11 12:19:30  "
      ]
     },
     "execution_count": 116,
     "metadata": {},
     "output_type": "execute_result"
    }
   ],
   "source": [
    "df.head()"
   ]
  },
  {
   "cell_type": "code",
   "execution_count": 121,
   "metadata": {
    "ExecuteTime": {
     "end_time": "2019-06-17T13:28:37.870316Z",
     "start_time": "2019-06-17T13:28:37.822715Z"
    },
    "collapsed": true
   },
   "outputs": [],
   "source": [
    "df_2 = df[['book_id', 'title']]"
   ]
  },
  {
   "cell_type": "code",
   "execution_count": 122,
   "metadata": {
    "ExecuteTime": {
     "end_time": "2019-06-17T13:28:38.726224Z",
     "start_time": "2019-06-17T13:28:38.722283Z"
    },
    "collapsed": true
   },
   "outputs": [],
   "source": [
    "df_2.columns = ['book_id', 'title_2']"
   ]
  },
  {
   "cell_type": "code",
   "execution_count": 140,
   "metadata": {
    "ExecuteTime": {
     "end_time": "2019-06-17T14:31:24.488269Z",
     "start_time": "2019-06-17T14:31:22.402688Z"
    }
   },
   "outputs": [
    {
     "name": "stderr",
     "output_type": "stream",
     "text": [
      "/anaconda/lib/python3.6/site-packages/ipykernel_launcher.py:1: SettingWithCopyWarning: \n",
      "A value is trying to be set on a copy of a slice from a DataFrame\n",
      "\n",
      "See the caveats in the documentation: http://pandas.pydata.org/pandas-docs/stable/indexing.html#indexing-view-versus-copy\n",
      "  \"\"\"Entry point for launching an IPython kernel.\n"
     ]
    }
   ],
   "source": [
    "df_2.drop_duplicates('book_id', keep = 'first', inplace = True)"
   ]
  },
  {
   "cell_type": "code",
   "execution_count": 142,
   "metadata": {
    "ExecuteTime": {
     "end_time": "2019-06-17T14:48:42.352731Z",
     "start_time": "2019-06-17T14:48:20.930757Z"
    }
   },
   "outputs": [
    {
     "name": "stderr",
     "output_type": "stream",
     "text": [
      "/anaconda/lib/python3.6/site-packages/ipykernel_launcher.py:1: SettingWithCopyWarning: \n",
      "A value is trying to be set on a copy of a slice from a DataFrame\n",
      "\n",
      "See the caveats in the documentation: http://pandas.pydata.org/pandas-docs/stable/indexing.html#indexing-view-versus-copy\n",
      "  \"\"\"Entry point for launching an IPython kernel.\n"
     ]
    }
   ],
   "source": [
    "df_3.drop_duplicates('book_id', keep = 'first', inplace = True)"
   ]
  },
  {
   "cell_type": "code",
   "execution_count": 146,
   "metadata": {
    "ExecuteTime": {
     "end_time": "2019-06-17T14:51:45.838050Z",
     "start_time": "2019-06-17T14:51:44.224351Z"
    },
    "collapsed": true,
    "scrolled": false
   },
   "outputs": [],
   "source": [
    "df_4 = pd.merge(df_2, df_3, on = 'book_id', how = 'inner', left_index = False, right_index = False)"
   ]
  },
  {
   "cell_type": "code",
   "execution_count": 149,
   "metadata": {
    "ExecuteTime": {
     "end_time": "2019-06-17T14:58:10.856546Z",
     "start_time": "2019-06-17T14:58:02.886011Z"
    },
    "collapsed": true
   },
   "outputs": [],
   "source": [
    "df_new = pd.merge(df, df_4, on = 'book_id', how = 'outer', left_index = False, right_index = False)"
   ]
  },
  {
   "cell_type": "code",
   "execution_count": 157,
   "metadata": {
    "ExecuteTime": {
     "end_time": "2019-06-18T13:15:37.549131Z",
     "start_time": "2019-06-18T13:15:37.443840Z"
    },
    "collapsed": true
   },
   "outputs": [],
   "source": [
    "df_new.reset_index(drop = True, inplace = True)"
   ]
  },
  {
   "cell_type": "code",
   "execution_count": 159,
   "metadata": {
    "ExecuteTime": {
     "end_time": "2019-06-18T13:18:46.117492Z",
     "start_time": "2019-06-18T13:18:42.051622Z"
    },
    "collapsed": true
   },
   "outputs": [],
   "source": [
    "df_new.drop(['tag', 'title_2'], axis = 1, inplace = True)"
   ]
  },
  {
   "cell_type": "markdown",
   "metadata": {},
   "source": [
    "## 2. describe the political books"
   ]
  },
  {
   "cell_type": "markdown",
   "metadata": {},
   "source": [
    "### 2.1 time dispersion(box plot)"
   ]
  },
  {
   "cell_type": "code",
   "execution_count": 183,
   "metadata": {
    "ExecuteTime": {
     "end_time": "2019-06-25T09:56:28.626460Z",
     "start_time": "2019-06-25T09:56:28.621353Z"
    },
    "collapsed": true
   },
   "outputs": [],
   "source": [
    "tags = ['政治哲学', '政治学','政治','自由主义', '威权主义', '马克思主义','极权主义', '民主', '社会主义', '资本主义', \n",
    "        '毛泽东', '邓小平', '文革']"
   ]
  },
  {
   "cell_type": "code",
   "execution_count": 184,
   "metadata": {
    "ExecuteTime": {
     "end_time": "2019-06-25T09:56:29.576703Z",
     "start_time": "2019-06-25T09:56:29.298135Z"
    },
    "collapsed": true
   },
   "outputs": [],
   "source": [
    "tag1 = df[df.tag_1.isin(tags)]"
   ]
  },
  {
   "cell_type": "code",
   "execution_count": 185,
   "metadata": {
    "ExecuteTime": {
     "end_time": "2019-06-25T09:56:30.248222Z",
     "start_time": "2019-06-25T09:56:30.070314Z"
    },
    "collapsed": true
   },
   "outputs": [],
   "source": [
    "tag2 = df[df.tag_2.isin(tags)]"
   ]
  },
  {
   "cell_type": "code",
   "execution_count": 186,
   "metadata": {
    "ExecuteTime": {
     "end_time": "2019-06-25T09:56:31.266186Z",
     "start_time": "2019-06-25T09:56:31.154538Z"
    },
    "collapsed": true
   },
   "outputs": [],
   "source": [
    "tag3 = df[df.tag_3.isin(tags)]"
   ]
  },
  {
   "cell_type": "code",
   "execution_count": 187,
   "metadata": {
    "ExecuteTime": {
     "end_time": "2019-06-25T09:56:32.034072Z",
     "start_time": "2019-06-25T09:56:31.999630Z"
    },
    "collapsed": true
   },
   "outputs": [],
   "source": [
    "df2 = pd.concat([tag1, tag2, tag3])"
   ]
  },
  {
   "cell_type": "code",
   "execution_count": 189,
   "metadata": {
    "ExecuteTime": {
     "end_time": "2019-06-25T09:56:35.145243Z",
     "start_time": "2019-06-25T09:56:34.079513Z"
    },
    "collapsed": true
   },
   "outputs": [],
   "source": [
    "df2.drop_duplicates(keep = 'first', inplace = True)"
   ]
  },
  {
   "cell_type": "code",
   "execution_count": 193,
   "metadata": {
    "ExecuteTime": {
     "end_time": "2019-06-25T09:57:12.667827Z",
     "start_time": "2019-06-25T09:57:12.663132Z"
    },
    "collapsed": true
   },
   "outputs": [],
   "source": [
    "df2.reset_index(drop = True, inplace = True)"
   ]
  },
  {
   "cell_type": "code",
   "execution_count": 241,
   "metadata": {
    "ExecuteTime": {
     "end_time": "2019-06-25T10:39:29.128666Z",
     "start_time": "2019-06-25T10:39:27.753246Z"
    },
    "collapsed": true
   },
   "outputs": [],
   "source": [
    "df4 = df[df['pubdate'].dt.year > 2004]"
   ]
  },
  {
   "cell_type": "code",
   "execution_count": 196,
   "metadata": {
    "ExecuteTime": {
     "end_time": "2019-06-25T09:57:46.173443Z",
     "start_time": "2019-06-25T09:57:46.160374Z"
    },
    "collapsed": true
   },
   "outputs": [],
   "source": [
    "df3 = df2[df2['pubdate'].dt.year > 2004]"
   ]
  },
  {
   "cell_type": "code",
   "execution_count": 249,
   "metadata": {
    "ExecuteTime": {
     "end_time": "2019-06-25T10:45:22.893879Z",
     "start_time": "2019-06-25T10:45:22.888838Z"
    },
    "collapsed": true
   },
   "outputs": [],
   "source": [
    "l = list(df3['time_period'])"
   ]
  },
  {
   "cell_type": "code",
   "execution_count": 243,
   "metadata": {
    "ExecuteTime": {
     "end_time": "2019-06-25T10:40:24.213007Z",
     "start_time": "2019-06-25T10:40:24.154151Z"
    },
    "collapsed": true
   },
   "outputs": [],
   "source": [
    "al = list(df['time_period'])"
   ]
  },
  {
   "cell_type": "code",
   "execution_count": 257,
   "metadata": {
    "ExecuteTime": {
     "end_time": "2019-06-25T10:47:39.570263Z",
     "start_time": "2019-06-25T10:47:39.336723Z"
    },
    "collapsed": true
   },
   "outputs": [],
   "source": [
    "lol = []\n",
    "for i in al:\n",
    "    if i > 0:\n",
    "        lol.append(i)"
   ]
  },
  {
   "cell_type": "code",
   "execution_count": 214,
   "metadata": {
    "ExecuteTime": {
     "end_time": "2019-06-25T10:13:29.041651Z",
     "start_time": "2019-06-25T10:13:29.017821Z"
    },
    "collapsed": true
   },
   "outputs": [],
   "source": [
    "ll = []\n",
    "for i in l:\n",
    "    if i > 0:\n",
    "        ll.append(i)"
   ]
  },
  {
   "cell_type": "code",
   "execution_count": 262,
   "metadata": {
    "ExecuteTime": {
     "end_time": "2019-06-25T10:51:41.968674Z",
     "start_time": "2019-06-25T10:51:41.963929Z"
    },
    "collapsed": true
   },
   "outputs": [],
   "source": [
    "xlabel = ['Political Books', 'All Books']"
   ]
  },
  {
   "cell_type": "code",
   "execution_count": 285,
   "metadata": {
    "ExecuteTime": {
     "end_time": "2019-06-25T11:13:01.222700Z",
     "start_time": "2019-06-25T11:13:00.552222Z"
    }
   },
   "outputs": [
    {
     "data": {
      "image/png": "[encoded data removed]",
      "text/plain": [
       "<Figure size 432x288 with 1 Axes>"
      ]
     },
     "metadata": {},
     "output_type": "display_data"
    }
   ],
   "source": [
    "data = [ll, lol]\n",
    "plt.boxplot(data, showfliers = False)\n",
    "plt.xticks([1, 2], ['Political Books', 'All books'])\n",
    "plt.title('The Dispersion of Reading Time in Books')\n",
    "plt.ylabel('The Time Period(Month)')\n",
    "\n",
    "plt.savefig('/users/zhengyiliang/Desktop/time_period2.png', bbox_inches='tight')"
   ]
  },
  {
   "cell_type": "markdown",
   "metadata": {},
   "source": [
    "### 2.2 time variation through years"
   ]
  },
  {
   "cell_type": "code",
   "execution_count": 183,
   "metadata": {
    "ExecuteTime": {
     "end_time": "2019-06-25T09:56:28.626460Z",
     "start_time": "2019-06-25T09:56:28.621353Z"
    },
    "collapsed": true
   },
   "outputs": [],
   "source": [
    "tags = ['政治哲学', '政治学','政治','自由主义', '威权主义', '马克思主义','极权主义', '民主', '社会主义', '资本主义', \n",
    "        '毛泽东', '邓小平', '文革']"
   ]
  },
  {
   "cell_type": "code",
   "execution_count": 184,
   "metadata": {
    "ExecuteTime": {
     "end_time": "2019-06-25T09:56:29.576703Z",
     "start_time": "2019-06-25T09:56:29.298135Z"
    },
    "collapsed": true
   },
   "outputs": [],
   "source": [
    "tag1 = df[df.tag_1.isin(tags)]"
   ]
  },
  {
   "cell_type": "code",
   "execution_count": 185,
   "metadata": {
    "ExecuteTime": {
     "end_time": "2019-06-25T09:56:30.248222Z",
     "start_time": "2019-06-25T09:56:30.070314Z"
    },
    "collapsed": true
   },
   "outputs": [],
   "source": [
    "tag2 = df[df.tag_2.isin(tags)]"
   ]
  },
  {
   "cell_type": "code",
   "execution_count": 186,
   "metadata": {
    "ExecuteTime": {
     "end_time": "2019-06-25T09:56:31.266186Z",
     "start_time": "2019-06-25T09:56:31.154538Z"
    },
    "collapsed": true
   },
   "outputs": [],
   "source": [
    "tag3 = df[df.tag_3.isin(tags)]"
   ]
  },
  {
   "cell_type": "code",
   "execution_count": 187,
   "metadata": {
    "ExecuteTime": {
     "end_time": "2019-06-25T09:56:32.034072Z",
     "start_time": "2019-06-25T09:56:31.999630Z"
    },
    "collapsed": true
   },
   "outputs": [],
   "source": [
    "df2 = pd.concat([tag1, tag2, tag3])"
   ]
  },
  {
   "cell_type": "code",
   "execution_count": 189,
   "metadata": {
    "ExecuteTime": {
     "end_time": "2019-06-25T09:56:35.145243Z",
     "start_time": "2019-06-25T09:56:34.079513Z"
    },
    "collapsed": true
   },
   "outputs": [],
   "source": [
    "df2.drop_duplicates(keep = 'first', inplace = True)"
   ]
  },
  {
   "cell_type": "code",
   "execution_count": 193,
   "metadata": {
    "ExecuteTime": {
     "end_time": "2019-06-25T09:57:12.667827Z",
     "start_time": "2019-06-25T09:57:12.663132Z"
    },
    "collapsed": true
   },
   "outputs": [],
   "source": [
    "df2.reset_index(drop = True, inplace = True)"
   ]
  },
  {
   "cell_type": "code",
   "execution_count": 306,
   "metadata": {
    "ExecuteTime": {
     "end_time": "2019-06-25T12:43:32.054285Z",
     "start_time": "2019-06-25T12:43:32.012637Z"
    },
    "collapsed": true
   },
   "outputs": [],
   "source": [
    "df2.drop(['rating', 'updated_month_year', 'pubdate_month_year','time_period'], axis = 1, inplace = True)"
   ]
  },
  {
   "cell_type": "code",
   "execution_count": 288,
   "metadata": {
    "ExecuteTime": {
     "end_time": "2019-06-25T12:34:35.657191Z",
     "start_time": "2019-06-25T12:33:38.921102Z"
    },
    "collapsed": true
   },
   "outputs": [],
   "source": [
    "df_1 = pd.read_csv('/users/zhengyiliang/Desktop/data&code/douban_book_collections/all_summary_bookid.csv')"
   ]
  },
  {
   "cell_type": "code",
   "execution_count": 290,
   "metadata": {
    "ExecuteTime": {
     "end_time": "2019-06-25T12:34:59.980721Z",
     "start_time": "2019-06-25T12:34:58.864727Z"
    },
    "collapsed": true
   },
   "outputs": [],
   "source": [
    "tag_1 = df_1[df_1.tag_1.isin(tags)]"
   ]
  },
  {
   "cell_type": "code",
   "execution_count": 291,
   "metadata": {
    "ExecuteTime": {
     "end_time": "2019-06-25T12:35:01.702075Z",
     "start_time": "2019-06-25T12:35:00.704442Z"
    },
    "collapsed": true
   },
   "outputs": [],
   "source": [
    "tag_2 = df_1[df_1.tag_2.isin(tags)]"
   ]
  },
  {
   "cell_type": "code",
   "execution_count": 292,
   "metadata": {
    "ExecuteTime": {
     "end_time": "2019-06-25T12:35:03.254109Z",
     "start_time": "2019-06-25T12:35:02.284329Z"
    },
    "collapsed": true
   },
   "outputs": [],
   "source": [
    "tag_3 = df_1[df_1.tag_3.isin(tags)]"
   ]
  },
  {
   "cell_type": "code",
   "execution_count": 295,
   "metadata": {
    "ExecuteTime": {
     "end_time": "2019-06-25T12:35:44.628615Z",
     "start_time": "2019-06-25T12:35:44.535547Z"
    },
    "collapsed": true
   },
   "outputs": [],
   "source": [
    "tag_books = pd.concat([tag_1, tag_2, tag_3])"
   ]
  },
  {
   "cell_type": "code",
   "execution_count": 297,
   "metadata": {
    "ExecuteTime": {
     "end_time": "2019-06-25T12:35:58.467870Z",
     "start_time": "2019-06-25T12:35:58.172213Z"
    },
    "collapsed": true
   },
   "outputs": [],
   "source": [
    "tag_books.drop_duplicates(keep = 'first', inplace = True)"
   ]
  },
  {
   "cell_type": "code",
   "execution_count": 313,
   "metadata": {
    "ExecuteTime": {
     "end_time": "2019-06-25T12:46:36.365060Z",
     "start_time": "2019-06-25T12:46:36.251359Z"
    },
    "collapsed": true
   },
   "outputs": [],
   "source": [
    "df3 = pd.concat([df2, tag_books], ignore_index = True)"
   ]
  },
  {
   "cell_type": "code",
   "execution_count": 354,
   "metadata": {
    "ExecuteTime": {
     "end_time": "2019-06-25T13:14:23.980194Z",
     "start_time": "2019-06-25T13:14:23.976921Z"
    },
    "collapsed": true
   },
   "outputs": [],
   "source": [
    "#df3.dtypes"
   ]
  },
  {
   "cell_type": "code",
   "execution_count": 355,
   "metadata": {
    "ExecuteTime": {
     "end_time": "2019-06-25T13:15:50.980754Z",
     "start_time": "2019-06-25T13:15:50.974384Z"
    },
    "collapsed": true
   },
   "outputs": [],
   "source": [
    "all_books = df3"
   ]
  },
  {
   "cell_type": "code",
   "execution_count": 356,
   "metadata": {
    "ExecuteTime": {
     "end_time": "2019-06-25T13:16:02.752553Z",
     "start_time": "2019-06-25T13:16:02.287895Z"
    },
    "collapsed": true
   },
   "outputs": [],
   "source": [
    "data = all_books.drop_duplicates(['book_id'], keep = 'first')"
   ]
  },
  {
   "cell_type": "code",
   "execution_count": 357,
   "metadata": {
    "ExecuteTime": {
     "end_time": "2019-06-25T13:16:10.585519Z",
     "start_time": "2019-06-25T13:16:10.560584Z"
    },
    "collapsed": true
   },
   "outputs": [],
   "source": [
    "data_1 = data[data.duplicated(['title'], keep = 'first')]"
   ]
  },
  {
   "cell_type": "code",
   "execution_count": 360,
   "metadata": {
    "ExecuteTime": {
     "end_time": "2019-06-25T13:17:43.343254Z",
     "start_time": "2019-06-25T13:17:36.545959Z"
    },
    "collapsed": true
   },
   "outputs": [],
   "source": [
    "for i in data_1['title']:\n",
    "    idx = all_books.index[all_books['title'] == i]\n",
    "    book_id = all_books.loc[idx[0]]['book_id']\n",
    "    for j in idx:\n",
    "        all_books.set_value(j, 'book_id', book_id)"
   ]
  },
  {
   "cell_type": "code",
   "execution_count": 361,
   "metadata": {
    "ExecuteTime": {
     "end_time": "2019-06-25T13:18:27.470005Z",
     "start_time": "2019-06-25T13:18:24.834810Z"
    }
   },
   "outputs": [
    {
     "name": "stderr",
     "output_type": "stream",
     "text": [
      "/anaconda/lib/python3.6/site-packages/ipykernel_launcher.py:7: SettingWithCopyWarning: \n",
      "A value is trying to be set on a copy of a slice from a DataFrame\n",
      "\n",
      "See the caveats in the documentation: http://pandas.pydata.org/pandas-docs/stable/indexing.html#indexing-view-versus-copy\n",
      "  import sys\n",
      "/anaconda/lib/python3.6/site-packages/ipykernel_launcher.py:8: SettingWithCopyWarning: \n",
      "A value is trying to be set on a copy of a slice from a DataFrame\n",
      "\n",
      "See the caveats in the documentation: http://pandas.pydata.org/pandas-docs/stable/indexing.html#indexing-view-versus-copy\n",
      "  \n"
     ]
    }
   ],
   "source": [
    "book = all_books['book_id']\n",
    "book = pd.DataFrame(book, columns = ['book_id'])\n",
    "book['frequency'] = book.groupby('book_id')['book_id'].transform('count')\n",
    "book_all_1 = pd.concat([all_books, book], axis = 1, join ='outer') \n",
    "\n",
    "book_all = book_all_1.loc[:,~book_all_1.columns.duplicated()]\n",
    "book_all.drop_duplicates(['book_id'], keep = 'first', inplace = True)\n",
    "book_all.sort_values(by = ['frequency'], inplace = True, ascending = False)"
   ]
  },
  {
   "cell_type": "code",
   "execution_count": 583,
   "metadata": {
    "ExecuteTime": {
     "end_time": "2019-06-27T11:42:07.370115Z",
     "start_time": "2019-06-27T11:42:03.476584Z"
    }
   },
   "outputs": [
    {
     "data": {
      "image/png": "[encoded data removed]",
      "text/plain": [
       "<Figure size 432x288 with 1 Axes>"
      ]
     },
     "metadata": {},
     "output_type": "display_data"
    }
   ],
   "source": [
    "import matplotlib\n",
    "top20 = list(book_all[:20]['title'])\n",
    "#('1984','中国历代政治得失','民主的细节', '邓小平时代','中国国家治理的制度逻辑','辩论：美国制宪会议记录','历史深处的忧虑',\n",
    "         #'通往奴役之路','君主论','独裁者手册')\n",
    "\n",
    "y_pos = np.arange(len(top20))\n",
    "number = list(book_all[:20]['frequency'])\n",
    "#[95, 39, 26, 26, 18, 18, 15, 13, 13, 12]\n",
    "\n",
    "font = matplotlib.font_manager.FontProperties(fname = r\"/Library/Fonts/华文仿宋.ttf\", size = 10)\n",
    "\n",
    "plt.barh(y_pos, number, align ='center', color ='orange')\n",
    "plt.yticks(y_pos, top20, fontproperties = font)\n",
    "plt.xlabel('The Number of Books Users take an interest in')\n",
    "plt.title('Top 20 Political Books from 2005 to 2019')\n",
    "\n",
    "plt.savefig('/users/zhengyiliang/Desktop/all.pdf', bbox_inches='tight')\n",
    "plt.show()"
   ]
  },
  {
   "cell_type": "code",
   "execution_count": 472,
   "metadata": {
    "ExecuteTime": {
     "end_time": "2019-06-26T10:47:34.612205Z",
     "start_time": "2019-06-26T10:47:34.394036Z"
    },
    "collapsed": true
   },
   "outputs": [],
   "source": [
    "book_all = book_all[book_all['pubdate'].dt.year > 2004]"
   ]
  },
  {
   "cell_type": "code",
   "execution_count": 475,
   "metadata": {
    "ExecuteTime": {
     "end_time": "2019-06-26T10:49:45.472425Z",
     "start_time": "2019-06-26T10:49:45.468213Z"
    },
    "collapsed": true
   },
   "outputs": [],
   "source": [
    "title = list(book_all['title'][:100])"
   ]
  },
  {
   "cell_type": "code",
   "execution_count": 478,
   "metadata": {
    "ExecuteTime": {
     "end_time": "2019-06-26T10:52:37.508256Z",
     "start_time": "2019-06-26T10:52:31.396448Z"
    },
    "collapsed": true
   },
   "outputs": [],
   "source": [
    "#booklist = ['民主的细节']\n",
    "booklist = title\n",
    "freq = []\n",
    "for i in booklist:\n",
    "    data = all_books[all_books['title'] == i]\n",
    "    y19 = len(data[data['updated_time'].dt.year == 2019])\n",
    "    y18 = len(data[data['updated_time'].dt.year == 2018])\n",
    "    y17 = len(data[data['updated_time'].dt.year == 2017])\n",
    "    y16 = len(data[data['updated_time'].dt.year == 2016])\n",
    "    y15 = len(data[data['updated_time'].dt.year == 2015])\n",
    "    y14 = len(data[data['updated_time'].dt.year == 2014])\n",
    "    y13 = len(data[data['updated_time'].dt.year == 2013])\n",
    "    y12 = len(data[data['updated_time'].dt.year == 2012])\n",
    "    y11 = len(data[data['updated_time'].dt.year == 2011])\n",
    "    y10 = len(data[data['updated_time'].dt.year == 2010])\n",
    "    y09 = len(data[data['updated_time'].dt.year == 2009])\n",
    "    y08 = len(data[data['updated_time'].dt.year == 2008])\n",
    "    y07 = len(data[data['updated_time'].dt.year == 2007])\n",
    "    y06 = len(data[data['updated_time'].dt.year == 2006])\n",
    "    y05 = len(data[data['updated_time'].dt.year == 2005])\n",
    "    freq.append([y05, y06, y07, y08, y09, y10, y11, y12, y13, y14, y15, y16, y17, y18, y19])"
   ]
  },
  {
   "cell_type": "code",
   "execution_count": 502,
   "metadata": {
    "ExecuteTime": {
     "end_time": "2019-06-26T12:12:05.450148Z",
     "start_time": "2019-06-26T12:12:05.445276Z"
    },
    "collapsed": true
   },
   "outputs": [],
   "source": [
    "newfreq = []\n",
    "for i in freq:\n",
    "    newlist = []\n",
    "    for j in i:\n",
    "        if j != 0:\n",
    "            newlist.append(j)\n",
    "    newfreq.append(newlist)"
   ]
  },
  {
   "cell_type": "code",
   "execution_count": 555,
   "metadata": {
    "ExecuteTime": {
     "end_time": "2019-06-26T12:12:05.450148Z",
     "start_time": "2019-06-26T12:12:05.445276Z"
    },
    "collapsed": true
   },
   "outputs": [],
   "source": [
    "for i in newfreq:\n",
    "    i.extend([0 for j in range(15-len(i))])   "
   ]
  },
  {
   "cell_type": "code",
   "execution_count": 556,
   "metadata": {
    "ExecuteTime": {
     "end_time": "2019-06-26T12:12:06.730154Z",
     "start_time": "2019-06-26T12:12:06.724176Z"
    }
   },
   "outputs": [
    {
     "data": {
      "text/plain": [
       "[[225, 405, 445, 313, 200, 111, 68, 38, 56, 63, 30, 0, 0, 0, 0],\n",
       " [3, 124, 173, 121, 120, 107, 110, 132, 171, 240, 112, 0, 0, 0, 0]]"
      ]
     },
     "execution_count": 556,
     "metadata": {},
     "output_type": "execute_result"
    }
   ],
   "source": [
    "newfreq[:2]"
   ]
  },
  {
   "cell_type": "code",
   "execution_count": 557,
   "metadata": {
    "ExecuteTime": {
     "end_time": "2019-06-26T12:12:07.835682Z",
     "start_time": "2019-06-26T12:12:07.831066Z"
    },
    "collapsed": true
   },
   "outputs": [],
   "source": [
    "for i in newfreq:\n",
    "    for j, k in enumerate(i):\n",
    "        if k == 0:\n",
    "            i[j] = None"
   ]
  },
  {
   "cell_type": "code",
   "execution_count": 558,
   "metadata": {
    "ExecuteTime": {
     "end_time": "2019-06-26T12:12:08.900950Z",
     "start_time": "2019-06-26T12:12:08.893688Z"
    }
   },
   "outputs": [
    {
     "data": {
      "text/plain": [
       "[[225, 405, 445, 313, 200, 111, 68, 38, 56, 63, 30, None, None, None, None],\n",
       " [3, 124, 173, 121, 120, 107, 110, 132, 171, 240, 112, None, None, None, None],\n",
       " [6, 17, 58, 85, 64, 41, 57, 28, 17, 22, 15, 25, 34, 17, None],\n",
       " [5, 6, 2, 6, 24, 177, 55, 40, 29, 43, 57, 29, None, None, None],\n",
       " [1, 2, 17, 29, 52, 48, 66, 59, 42, 28, 18, 21, 21, 25, 15]]"
      ]
     },
     "execution_count": 558,
     "metadata": {},
     "output_type": "execute_result"
    }
   ],
   "source": [
    "newfreq[:5]"
   ]
  },
  {
   "cell_type": "code",
   "execution_count": 559,
   "metadata": {
    "ExecuteTime": {
     "end_time": "2019-06-26T12:12:16.780549Z",
     "start_time": "2019-06-26T12:12:12.178637Z"
    },
    "scrolled": true
   },
   "outputs": [
    {
     "data": {
      "image/png": "[encoded data removed]",
      "text/plain": [
       "<Figure size 432x288 with 1 Axes>"
      ]
     },
     "metadata": {},
     "output_type": "display_data"
    }
   ],
   "source": [
    "x = range(0,15)\n",
    "y =  newfreq[0]\n",
    "plt.plot(x, y, color = 'tomato', label = title[0])\n",
    "y12 = newfreq[1]\n",
    "plt.plot(x, y12, color = 'maroon', label = title[1] )\n",
    "y1 = newfreq[2]\n",
    "plt.plot(x, y1, color = 'm', label = title[2] )\n",
    "y2 = newfreq[3]\n",
    "plt.plot(x, y2, color = 'aquamarine', label = title[3])\n",
    "y3 = newfreq[4]\n",
    "plt.plot(x, y3, color = 'rebeccapurple', label = title[4])\n",
    "y4 = newfreq[5]\n",
    "plt.plot(x, y4, color = 'coral', label = title[5])\n",
    "y5 = newfreq[6]\n",
    "plt.plot(x, y5, color = 'cornflowerblue', label = title[6])\n",
    "y6 = newfreq[7]\n",
    "plt.plot(x, y6, color = 'darkcyan', label = title[7])\n",
    "y7 = newfreq[8]\n",
    "plt.plot(x, y7, color = 'orange', label = title[8])\n",
    "y8 = newfreq[9]\n",
    "plt.plot(x, y8, color = 'gray', label = title[9] )\n",
    "y9 = newfreq[10]\n",
    "plt.plot(x, y9, color = 'peru', label = title[10])\n",
    "y10 = newfreq[11]\n",
    "plt.plot(x, y10, color = 'pink', label = title[11])\n",
    "y11 = newfreq[12]\n",
    "plt.plot(x, y11, color = 'sienna', label =title[12])\n",
    "\n",
    "for i in newfreq[13:]:\n",
    "    y12 = i\n",
    "    plt.plot(x, y12, color = 'gray')\n",
    "    \n",
    "plt.xticks(range(0,15), Fontsize = 8)\n",
    "#plt.ylim(-5, 40)\n",
    "plt.xlabel('Descending Years')\n",
    "plt.ylabel('Thu number of books users take an interst in')\n",
    "plt.title('Temporal Variation of Political Books')\n",
    "\n",
    "plt.legend(fontsize = 6.5)\n",
    "#plt.savefig('/users/zhengyiliang/Desktop/temporal_variation.pdf', bbox_inches='tight')\n",
    "plt.show()"
   ]
  },
  {
   "cell_type": "markdown",
   "metadata": {},
   "source": [
    "### compute zscore"
   ]
  },
  {
   "cell_type": "code",
   "execution_count": 518,
   "metadata": {
    "ExecuteTime": {
     "end_time": "2019-06-26T11:48:49.865180Z",
     "start_time": "2019-06-26T11:48:49.680236Z"
    },
    "collapsed": true
   },
   "outputs": [],
   "source": [
    "u = []\n",
    "for i in range(2005, 2020):\n",
    "    book_y =all_books[all_books['updated_time'].dt.year == i] \n",
    "    x = len(book_y)/len(book_y.drop_duplicates(['book_id'], inplace = False))\n",
    "    u.append(x)    "
   ]
  },
  {
   "cell_type": "code",
   "execution_count": 514,
   "metadata": {
    "ExecuteTime": {
     "end_time": "2019-06-26T11:46:50.045081Z",
     "start_time": "2019-06-26T11:46:50.041062Z"
    },
    "collapsed": true
   },
   "outputs": [],
   "source": [
    "u = dict(zip(range(2005, 2020), u))"
   ]
  },
  {
   "cell_type": "code",
   "execution_count": 516,
   "metadata": {
    "ExecuteTime": {
     "end_time": "2019-06-26T11:46:56.003987Z",
     "start_time": "2019-06-26T11:46:55.649068Z"
    },
    "collapsed": true
   },
   "outputs": [],
   "source": [
    "std = []\n",
    "for i in range(2005, 2020):\n",
    "    l = []\n",
    "    book_y = all_books[all_books['updated_time'].dt.year == i] \n",
    "    book_y.reset_index(drop = True, inplace = True)\n",
    "    book = book_y['book_id']\n",
    "    book = pd.DataFrame(book, columns = ['book_id'])\n",
    "    book['frequency'] = book.groupby('book_id')['book_id'].transform('count')\n",
    "    book_new = book.drop_duplicates(['book_id'], inplace = False)\n",
    "    \n",
    "    for j in book_new['frequency']:\n",
    "        s = np.square(j - u[i])\n",
    "        l.append(s)\n",
    "    std_y = np.sqrt(sum(l)/len(book_new))\n",
    "    std.append(std_y)    "
   ]
  },
  {
   "cell_type": "code",
   "execution_count": 520,
   "metadata": {
    "ExecuteTime": {
     "end_time": "2019-06-26T11:48:57.308518Z",
     "start_time": "2019-06-26T11:48:57.300089Z"
    },
    "collapsed": true
   },
   "outputs": [],
   "source": [
    "zscore = []\n",
    "for j in freq:\n",
    "    zbook = []\n",
    "    for i in j:\n",
    "        idx = j.index(i)\n",
    "        z = (i - u[idx])/std[idx]\n",
    "        zbook.append(z)\n",
    "    zscore.append(zbook)"
   ]
  },
  {
   "cell_type": "code",
   "execution_count": 526,
   "metadata": {
    "ExecuteTime": {
     "end_time": "2019-06-26T11:59:43.673408Z",
     "start_time": "2019-06-26T11:59:43.662448Z"
    },
    "collapsed": true
   },
   "outputs": [],
   "source": [
    "freq_zscore = []\n",
    "for i in range(100):\n",
    "    num = 15 - len(newfreq[i])\n",
    "    freq_z = []\n",
    "    for j in range(num, 15):\n",
    "        freq_z.append(zscore[i][j])\n",
    "    freq_zscore.append(freq_z)       "
   ]
  },
  {
   "cell_type": "code",
   "execution_count": 544,
   "metadata": {
    "ExecuteTime": {
     "end_time": "2019-06-26T12:05:00.268166Z",
     "start_time": "2019-06-26T12:05:00.261009Z"
    },
    "collapsed": true
   },
   "outputs": [],
   "source": [
    "for i in freq_zscore:\n",
    "    i.extend([0 for j in range(15-len(i))]) "
   ]
  },
  {
   "cell_type": "code",
   "execution_count": 548,
   "metadata": {
    "ExecuteTime": {
     "end_time": "2019-06-26T12:05:48.213988Z",
     "start_time": "2019-06-26T12:05:48.206662Z"
    },
    "collapsed": true
   },
   "outputs": [],
   "source": [
    "for i in freq_zscore:\n",
    "    for j, k in enumerate(i):\n",
    "        if k == 0:\n",
    "            i[j] = None"
   ]
  },
  {
   "cell_type": "code",
   "execution_count": 578,
   "metadata": {
    "ExecuteTime": {
     "end_time": "2019-06-26T12:39:20.397429Z",
     "start_time": "2019-06-26T12:39:18.002623Z"
    }
   },
   "outputs": [
    {
     "data": {
      "image/png": "[encoded data removed]",
      "text/plain": [
       "<Figure size 432x288 with 1 Axes>"
      ]
     },
     "metadata": {},
     "output_type": "display_data"
    }
   ],
   "source": [
    "x = range(0,15)\n",
    "#y =  freq_zscore[0]\n",
    "#plt.plot(x, y, color = 'tomato', label = title[0])\n",
    "#y12 = freq_zscore[1]\n",
    "#plt.plot(x, y12, color = 'maroon', label = title[1] )\n",
    "y1 = freq_zscore[2]\n",
    "plt.plot(x, y1, color = 'm', label = title[2] )\n",
    "y2 = freq_zscore[3]\n",
    "plt.plot(x, y2, color = 'aquamarine', label = title[3])\n",
    "y3 = freq_zscore[4]\n",
    "plt.plot(x, y3, color = 'rebeccapurple', label = title[4])\n",
    "y4 = freq_zscore[5]\n",
    "plt.plot(x, y4, color = 'coral', label = title[5])\n",
    "y5 = freq_zscore[6]\n",
    "plt.plot(x, y5, color = 'cornflowerblue', label = title[6])\n",
    "y6 = freq_zscore[7]\n",
    "plt.plot(x, y6, color = 'darkcyan', label = title[7])\n",
    "y7 = freq_zscore[8]\n",
    "plt.plot(x, y7, color = 'orange', label = title[8])\n",
    "y8 = freq_zscore[9]\n",
    "plt.plot(x, y8, color = 'gray', label = title[9] )\n",
    "y9 = freq_zscore[10]\n",
    "plt.plot(x, y9, color = 'peru', label = title[10])\n",
    "y10 = freq_zscore[11]\n",
    "plt.plot(x, y10, color = 'pink', label = title[11])\n",
    "y11 = freq_zscore[12]\n",
    "plt.plot(x, y11, color = 'sienna', label =title[12])\n",
    "\n",
    "y13 = freq_zscore[13]\n",
    "plt.plot(x, y13, color = 'indianred')\n",
    "y14 = freq_zscore[14]\n",
    "plt.plot(x, y14, color = 'red')\n",
    "y15 = freq_zscore[15]\n",
    "plt.plot(x, y15, color = 'peru')\n",
    "y16 = freq_zscore[16]\n",
    "plt.plot(x, y16, color = 'darkgoldenrod')\n",
    "y17 = freq_zscore[17]\n",
    "plt.plot(x, y17, color = 'darkkhaki')\n",
    "y18 = freq_zscore[18]\n",
    "plt.plot(x, y18, color = 'olivedrab')\n",
    "y19 = freq_zscore[19]\n",
    "plt.plot(x, y19, color = 'teal')\n",
    "y20 = freq_zscore[20]\n",
    "plt.plot(x, y20, color = 'steelblue')\n",
    "y21 = freq_zscore[21]\n",
    "plt.plot(x, y21, color = 'mediumpurple')\n",
    "\n",
    "\n",
    "\n",
    "#for i in freq_zscore[21:25]:\n",
    "    #y100 = i\n",
    "    #plt.plot(x, y100, color = 'gray')\n",
    "    \n",
    "plt.xticks(range(0,15), Fontsize = 8)\n",
    "plt.ylim(-1, 18)\n",
    "plt.xlabel('Descending Years')\n",
    "plt.ylabel('The number of times users tag (zscore)')\n",
    "plt.title('Temporal Variation of Popular Political Books')\n",
    "\n",
    "plt.legend(fontsize = 6.5)\n",
    "plt.savefig('/users/zhengyiliang/Desktop/temporal_variation_zscore2.pdf', bbox_inches='tight')\n",
    "plt.show()"
   ]
  },
  {
   "cell_type": "markdown",
   "metadata": {
    "ExecuteTime": {
     "end_time": "2019-06-26T09:38:17.417393Z",
     "start_time": "2019-06-26T09:38:17.408610Z"
    }
   },
   "source": [
    "### case study"
   ]
  },
  {
   "cell_type": "code",
   "execution_count": 424,
   "metadata": {
    "ExecuteTime": {
     "end_time": "2019-06-26T09:29:26.545972Z",
     "start_time": "2019-06-26T09:29:26.542052Z"
    },
    "collapsed": true
   },
   "outputs": [],
   "source": [
    "new = [j for i in freq for j in i if j != 0]"
   ]
  },
  {
   "cell_type": "code",
   "execution_count": 453,
   "metadata": {
    "ExecuteTime": {
     "end_time": "2019-06-26T09:36:39.582812Z",
     "start_time": "2019-06-26T09:36:39.572472Z"
    },
    "collapsed": true
   },
   "outputs": [],
   "source": [
    "listOfnum = [12, 44, 56, 45, 34, 3, 4, 0, 0]\n",
    "for elem in listOfnum:\n",
    "    if elem == 0:\n",
    "        listOfnum.remove(elem)"
   ]
  },
  {
   "cell_type": "code",
   "execution_count": 435,
   "metadata": {
    "ExecuteTime": {
     "end_time": "2019-06-26T09:33:16.943124Z",
     "start_time": "2019-06-26T09:33:16.939057Z"
    },
    "collapsed": true
   },
   "outputs": [],
   "source": [
    "for i in freq[0]:\n",
    "    if i == 0:\n",
    "        freq[0].remove(i)"
   ]
  },
  {
   "cell_type": "code",
   "execution_count": 462,
   "metadata": {
    "ExecuteTime": {
     "end_time": "2019-06-26T09:40:42.043486Z",
     "start_time": "2019-06-26T09:40:42.022941Z"
    },
    "collapsed": true
   },
   "outputs": [],
   "source": [
    "newfreq = []\n",
    "for i in freq:\n",
    "    newlist = []\n",
    "    for j in i:\n",
    "        if j != 0:\n",
    "            newlist.append(j)\n",
    "    newfreq.append(newlist)"
   ]
  },
  {
   "cell_type": "code",
   "execution_count": 466,
   "metadata": {
    "ExecuteTime": {
     "end_time": "2019-06-26T10:43:16.907553Z",
     "start_time": "2019-06-26T10:43:16.901282Z"
    },
    "collapsed": true
   },
   "outputs": [],
   "source": [
    "for i in newfreq:\n",
    "    i.extend([0 for j in range(15-len(i))])   "
   ]
  },
  {
   "cell_type": "code",
   "execution_count": 401,
   "metadata": {
    "ExecuteTime": {
     "end_time": "2019-06-26T09:16:38.720988Z",
     "start_time": "2019-06-26T09:16:38.709496Z"
    },
    "collapsed": true
   },
   "outputs": [],
   "source": [
    "for i in freq:\n",
    "    for j, k in enumerate(i):\n",
    "        if k == 0:\n",
    "            i[j] = None"
   ]
  },
  {
   "cell_type": "code",
   "execution_count": null,
   "metadata": {
    "collapsed": true
   },
   "outputs": [],
   "source": [
    "#data1\n",
    "x=['200101','200102','200103','200104','200105','200106','200107','200108',\n",
    "   '200109','200110','200111','200112','200201','200202','200203','200204',\n",
    "   '200205','200206','200207','200208','200209']\n",
    "x = [dt.datetime.strptime(i, '%Y%m') for i in x] \n",
    "y=[30.2,37.6,34.7,27.1,31.9,43.9,42.4,42.3,34.4,40.0,47.2,\n",
    "   40.8,34.7,27.1,31.9,43.9,42.4,42.3,34.4,40.0,47.2]\n",
    "\n",
    "#data2   \n",
    "q=['200106','200107','200108','200206','200207','200208']\n",
    "q = [dt.datetime.strptime(i, '%Y%m') for i in q] \n",
    "w=[19.7,18.6,15.2,17.3,16.9,18.2]\n",
    "\n",
    "for i, xi in enumerate(x):\n",
    "    if xi not in q:\n",
    "        w.insert(i, None)"
   ]
  },
  {
   "cell_type": "code",
   "execution_count": 376,
   "metadata": {
    "ExecuteTime": {
     "end_time": "2019-06-25T14:45:37.037535Z",
     "start_time": "2019-06-25T14:45:36.398694Z"
    }
   },
   "outputs": [
    {
     "data": {
      "image/png": "[encoded data removed]",
      "text/plain": [
       "<Figure size 432x288 with 1 Axes>"
      ]
     },
     "metadata": {},
     "output_type": "display_data"
    }
   ],
   "source": [
    "x = range(0,5)\n",
    "y =  [12, 14, 60,30, None]\n",
    "\n",
    "plt.plot(x, y, color = 'tomato', label = '民主的细节' )\n",
    "#y12 = freq_1984\n",
    "#plt.plot(x, y12, color = 'maroon', label = '1984' )\n",
    "#y1 = freq[1]\n",
    "#plt.plot(x, y1, color = 'm', label = '中国历代政治得失' )\n",
    "\n",
    "plt.xticks(range(0, 5), Fontsize = 8)\n",
    "#plt.yticks([200, 300, 400, 500])\n",
    "plt.xlabel('Year')\n",
    "plt.ylabel('The Number of Books Users Take an Interest in')\n",
    "plt.title('Temporal Variation of Political Books')\n",
    "\n",
    "plt.legend(fontsize = 6.5)\n",
    "#plt.savefig('/users/zhengyiliang/Desktop/temporal_variation.png', bbox_inches='tight')\n",
    "plt.show()"
   ]
  },
  {
   "cell_type": "code",
   "execution_count": null,
   "metadata": {
    "collapsed": true
   },
   "outputs": [],
   "source": []
  }
 ],
 "metadata": {
  "kernelspec": {
   "display_name": "Python 3",
   "language": "python",
   "name": "python3"
  },
  "language_info": {
   "codemirror_mode": {
    "name": "ipython",
    "version": 3
   },
   "file_extension": ".py",
   "mimetype": "text/x-python",
   "name": "python",
   "nbconvert_exporter": "python",
   "pygments_lexer": "ipython3",
   "version": "3.6.1"
  },
  "toc": {
   "base_numbering": 1,
   "nav_menu": {},
   "number_sections": true,
   "sideBar": true,
   "skip_h1_title": false,
   "title_cell": "Table of Contents",
   "title_sidebar": "Contents",
   "toc_cell": false,
   "toc_position": {},
   "toc_section_display": true,
   "toc_window_display": true
  }
 },
 "nbformat": 4,
 "nbformat_minor": 2
}
