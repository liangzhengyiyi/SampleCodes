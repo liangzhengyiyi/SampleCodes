{
 "cells": [
  {
   "cell_type": "code",
   "execution_count": 1,
   "metadata": {
    "ExecuteTime": {
     "end_time": "2019-06-24T11:33:17.023274Z",
     "start_time": "2019-06-24T11:33:14.520135Z"
    },
    "collapsed": true
   },
   "outputs": [],
   "source": [
    "import numpy as np\n",
    "import matplotlib.pyplot as plt\n",
    "import pandas as pd\n",
    "%matplotlib inline"
   ]
  },
  {
   "cell_type": "code",
   "execution_count": 207,
   "metadata": {
    "ExecuteTime": {
     "end_time": "2019-06-25T10:09:25.723772Z",
     "start_time": "2019-06-25T10:09:25.719394Z"
    },
    "collapsed": true
   },
   "outputs": [],
   "source": [
    "pd.set_option('display.max_rows', 500)"
   ]
  },
  {
   "cell_type": "markdown",
   "metadata": {},
   "source": [
    "## 1. repalce the missing values "
   ]
  },
  {
   "cell_type": "code",
   "execution_count": 114,
   "metadata": {
    "ExecuteTime": {
     "end_time": "2019-06-17T13:25:10.562900Z",
     "start_time": "2019-06-17T13:25:07.603163Z"
    },
    "collapsed": true,
    "scrolled": true
   },
   "outputs": [],
   "source": [
    "df = pd.read_csv('/users/zhengyiliang/Desktop/data&code/douban_book_collections/7digits_others/book_first_space.csv')"
   ]
  },
  {
   "cell_type": "code",
   "execution_count": 115,
   "metadata": {
    "ExecuteTime": {
     "end_time": "2019-06-17T13:25:12.257375Z",
     "start_time": "2019-06-17T13:25:12.125309Z"
    },
    "collapsed": true
   },
   "outputs": [],
   "source": [
    "df = df[df['total'] != 0]"
   ]
  },
  {
   "cell_type": "code",
   "execution_count": 584,
   "metadata": {
    "ExecuteTime": {
     "end_time": "2019-06-17T12:21:20.248204Z",
     "start_time": "2019-06-17T12:21:20.242631Z"
    }
   },
   "outputs": [
    {
     "data": {
      "text/plain": [
       "792078"
      ]
     },
     "execution_count": 584,
     "metadata": {},
     "output_type": "execute_result"
    }
   ],
   "source": [
    "len(df)"
   ]
  },
  {
   "cell_type": "code",
   "execution_count": 31,
   "metadata": {
    "ExecuteTime": {
     "end_time": "2019-06-17T12:21:51.868979Z",
     "start_time": "2019-06-17T12:21:51.863344Z"
    }
   },
   "outputs": [
    {
     "data": {
      "text/plain": [
       "792078"
      ]
     },
     "execution_count": 31,
     "metadata": {},
     "output_type": "execute_result"
    }
   ],
   "source": [
    "len(df)"
   ]
  },
  {
   "cell_type": "code",
   "execution_count": 116,
   "metadata": {
    "ExecuteTime": {
     "end_time": "2019-06-17T13:25:16.062096Z",
     "start_time": "2019-06-17T13:25:16.040867Z"
    },
    "scrolled": true
   },
   "outputs": [
    {
     "data": {
      "text/html": [
       "<div>\n",
       "<style>\n",
       "    .dataframe thead tr:only-child th {\n",
       "        text-align: right;\n",
       "    }\n",
       "\n",
       "    .dataframe thead th {\n",
       "        text-align: left;\n",
       "    }\n",
       "\n",
       "    .dataframe tbody tr th {\n",
       "        vertical-align: top;\n",
       "    }\n",
       "</style>\n",
       "<table border=\"1\" class=\"dataframe\">\n",
       "  <thead>\n",
       "    <tr style=\"text-align: right;\">\n",
       "      <th></th>\n",
       "      <th>User_ID</th>\n",
       "      <th>book_id</th>\n",
       "      <th>rating</th>\n",
       "      <th>status</th>\n",
       "      <th>tag</th>\n",
       "      <th>title</th>\n",
       "      <th>total</th>\n",
       "      <th>updated_time</th>\n",
       "    </tr>\n",
       "  </thead>\n",
       "  <tbody>\n",
       "    <tr>\n",
       "      <th>1</th>\n",
       "      <td>1000860</td>\n",
       "      <td>1036274.0</td>\n",
       "      <td>8.5</td>\n",
       "      <td>wish</td>\n",
       "      <td>童话</td>\n",
       "      <td>夏洛的网</td>\n",
       "      <td>182</td>\n",
       "      <td>2019-02-13 01:01:29</td>\n",
       "    </tr>\n",
       "    <tr>\n",
       "      <th>2</th>\n",
       "      <td>1000860</td>\n",
       "      <td>27608239.0</td>\n",
       "      <td>8.4</td>\n",
       "      <td>reading</td>\n",
       "      <td>思维</td>\n",
       "      <td>原则</td>\n",
       "      <td>182</td>\n",
       "      <td>2018-03-09 22:40:59</td>\n",
       "    </tr>\n",
       "    <tr>\n",
       "      <th>3</th>\n",
       "      <td>1000860</td>\n",
       "      <td>25975454.0</td>\n",
       "      <td>7.8</td>\n",
       "      <td>wish</td>\n",
       "      <td>创业</td>\n",
       "      <td>九败一胜</td>\n",
       "      <td>182</td>\n",
       "      <td>2014-09-16 17:32:27</td>\n",
       "    </tr>\n",
       "    <tr>\n",
       "      <th>4</th>\n",
       "      <td>1000860</td>\n",
       "      <td>25942507.0</td>\n",
       "      <td>7.5</td>\n",
       "      <td>wish</td>\n",
       "      <td>营销</td>\n",
       "      <td>参与感</td>\n",
       "      <td>182</td>\n",
       "      <td>2014-08-15 22:53:37</td>\n",
       "    </tr>\n",
       "    <tr>\n",
       "      <th>5</th>\n",
       "      <td>1000860</td>\n",
       "      <td>10571271.0</td>\n",
       "      <td>6.6</td>\n",
       "      <td>wish</td>\n",
       "      <td>创业</td>\n",
       "      <td>我为什么要投资你</td>\n",
       "      <td>182</td>\n",
       "      <td>2013-01-11 12:19:30</td>\n",
       "    </tr>\n",
       "  </tbody>\n",
       "</table>\n",
       "</div>"
      ],
      "text/plain": [
       "   User_ID     book_id  rating   status tag     title  total  \\\n",
       "1  1000860   1036274.0     8.5     wish  童话      夏洛的网    182   \n",
       "2  1000860  27608239.0     8.4  reading  思维        原则    182   \n",
       "3  1000860  25975454.0     7.8     wish  创业      九败一胜    182   \n",
       "4  1000860  25942507.0     7.5     wish  营销       参与感    182   \n",
       "5  1000860  10571271.0     6.6     wish  创业  我为什么要投资你    182   \n",
       "\n",
       "          updated_time  \n",
       "1  2019-02-13 01:01:29  \n",
       "2  2018-03-09 22:40:59  \n",
       "3  2014-09-16 17:32:27  \n",
       "4  2014-08-15 22:53:37  \n",
       "5  2013-01-11 12:19:30  "
      ]
     },
     "execution_count": 116,
     "metadata": {},
     "output_type": "execute_result"
    }
   ],
   "source": [
    "df.head()"
   ]
  },
  {
   "cell_type": "code",
   "execution_count": 148,
   "metadata": {
    "ExecuteTime": {
     "end_time": "2019-06-17T14:57:11.073204Z",
     "start_time": "2019-06-17T14:57:10.976612Z"
    }
   },
   "outputs": [
    {
     "data": {
      "text/plain": [
       "792078"
      ]
     },
     "execution_count": 148,
     "metadata": {},
     "output_type": "execute_result"
    }
   ],
   "source": [
    "len(df)"
   ]
  },
  {
   "cell_type": "code",
   "execution_count": 121,
   "metadata": {
    "ExecuteTime": {
     "end_time": "2019-06-17T13:28:37.870316Z",
     "start_time": "2019-06-17T13:28:37.822715Z"
    },
    "collapsed": true
   },
   "outputs": [],
   "source": [
    "df_2 = df[['book_id', 'title']]"
   ]
  },
  {
   "cell_type": "code",
   "execution_count": 122,
   "metadata": {
    "ExecuteTime": {
     "end_time": "2019-06-17T13:28:38.726224Z",
     "start_time": "2019-06-17T13:28:38.722283Z"
    },
    "collapsed": true
   },
   "outputs": [],
   "source": [
    "df_2.columns = ['book_id', 'title_2']"
   ]
  },
  {
   "cell_type": "code",
   "execution_count": 144,
   "metadata": {
    "ExecuteTime": {
     "end_time": "2019-06-17T14:49:31.075240Z",
     "start_time": "2019-06-17T14:49:31.024186Z"
    },
    "scrolled": true
   },
   "outputs": [
    {
     "data": {
      "text/html": [
       "<div>\n",
       "<style>\n",
       "    .dataframe thead tr:only-child th {\n",
       "        text-align: right;\n",
       "    }\n",
       "\n",
       "    .dataframe thead th {\n",
       "        text-align: left;\n",
       "    }\n",
       "\n",
       "    .dataframe tbody tr th {\n",
       "        vertical-align: top;\n",
       "    }\n",
       "</style>\n",
       "<table border=\"1\" class=\"dataframe\">\n",
       "  <thead>\n",
       "    <tr style=\"text-align: right;\">\n",
       "      <th></th>\n",
       "      <th>book_id</th>\n",
       "      <th>title_2</th>\n",
       "    </tr>\n",
       "  </thead>\n",
       "  <tbody>\n",
       "    <tr>\n",
       "      <th>1</th>\n",
       "      <td>1036274</td>\n",
       "      <td>夏洛的网</td>\n",
       "    </tr>\n",
       "    <tr>\n",
       "      <th>2</th>\n",
       "      <td>27608239</td>\n",
       "      <td>原则</td>\n",
       "    </tr>\n",
       "    <tr>\n",
       "      <th>3</th>\n",
       "      <td>25975454</td>\n",
       "      <td>九败一胜</td>\n",
       "    </tr>\n",
       "    <tr>\n",
       "      <th>4</th>\n",
       "      <td>25942507</td>\n",
       "      <td>参与感</td>\n",
       "    </tr>\n",
       "    <tr>\n",
       "      <th>5</th>\n",
       "      <td>10571271</td>\n",
       "      <td>我为什么要投资你</td>\n",
       "    </tr>\n",
       "  </tbody>\n",
       "</table>\n",
       "</div>"
      ],
      "text/plain": [
       "    book_id   title_2\n",
       "1   1036274      夏洛的网\n",
       "2  27608239        原则\n",
       "3  25975454      九败一胜\n",
       "4  25942507       参与感\n",
       "5  10571271  我为什么要投资你"
      ]
     },
     "execution_count": 144,
     "metadata": {},
     "output_type": "execute_result"
    }
   ],
   "source": [
    "df_2.head()"
   ]
  },
  {
   "cell_type": "code",
   "execution_count": 140,
   "metadata": {
    "ExecuteTime": {
     "end_time": "2019-06-17T14:31:24.488269Z",
     "start_time": "2019-06-17T14:31:22.402688Z"
    }
   },
   "outputs": [
    {
     "name": "stderr",
     "output_type": "stream",
     "text": [
      "/anaconda/lib/python3.6/site-packages/ipykernel_launcher.py:1: SettingWithCopyWarning: \n",
      "A value is trying to be set on a copy of a slice from a DataFrame\n",
      "\n",
      "See the caveats in the documentation: http://pandas.pydata.org/pandas-docs/stable/indexing.html#indexing-view-versus-copy\n",
      "  \"\"\"Entry point for launching an IPython kernel.\n"
     ]
    }
   ],
   "source": [
    "df_2.drop_duplicates('book_id', keep = 'first', inplace = True)"
   ]
  },
  {
   "cell_type": "code",
   "execution_count": 141,
   "metadata": {
    "ExecuteTime": {
     "end_time": "2019-06-17T14:31:31.116382Z",
     "start_time": "2019-06-17T14:31:31.109348Z"
    }
   },
   "outputs": [
    {
     "data": {
      "text/plain": [
       "204107"
      ]
     },
     "execution_count": 141,
     "metadata": {},
     "output_type": "execute_result"
    }
   ],
   "source": [
    "len(df_2)"
   ]
  },
  {
   "cell_type": "code",
   "execution_count": 142,
   "metadata": {
    "ExecuteTime": {
     "end_time": "2019-06-17T14:48:42.352731Z",
     "start_time": "2019-06-17T14:48:20.930757Z"
    }
   },
   "outputs": [
    {
     "name": "stderr",
     "output_type": "stream",
     "text": [
      "/anaconda/lib/python3.6/site-packages/ipykernel_launcher.py:1: SettingWithCopyWarning: \n",
      "A value is trying to be set on a copy of a slice from a DataFrame\n",
      "\n",
      "See the caveats in the documentation: http://pandas.pydata.org/pandas-docs/stable/indexing.html#indexing-view-versus-copy\n",
      "  \"\"\"Entry point for launching an IPython kernel.\n"
     ]
    }
   ],
   "source": [
    "df_3.drop_duplicates('book_id', keep = 'first', inplace = True)"
   ]
  },
  {
   "cell_type": "code",
   "execution_count": 143,
   "metadata": {
    "ExecuteTime": {
     "end_time": "2019-06-17T14:48:59.982330Z",
     "start_time": "2019-06-17T14:48:59.963228Z"
    }
   },
   "outputs": [
    {
     "data": {
      "text/plain": [
       "351131"
      ]
     },
     "execution_count": 143,
     "metadata": {},
     "output_type": "execute_result"
    }
   ],
   "source": [
    "len(df_3)"
   ]
  },
  {
   "cell_type": "code",
   "execution_count": 146,
   "metadata": {
    "ExecuteTime": {
     "end_time": "2019-06-17T14:51:45.838050Z",
     "start_time": "2019-06-17T14:51:44.224351Z"
    },
    "collapsed": true,
    "scrolled": false
   },
   "outputs": [],
   "source": [
    "df_4 = pd.merge(df_2, df_3, on = 'book_id', how = 'inner', left_index = False, right_index = False)"
   ]
  },
  {
   "cell_type": "code",
   "execution_count": 149,
   "metadata": {
    "ExecuteTime": {
     "end_time": "2019-06-17T14:58:10.856546Z",
     "start_time": "2019-06-17T14:58:02.886011Z"
    },
    "collapsed": true
   },
   "outputs": [],
   "source": [
    "df_new = pd.merge(df, df_4, on = 'book_id', how = 'outer', left_index = False, right_index = False)"
   ]
  },
  {
   "cell_type": "code",
   "execution_count": 157,
   "metadata": {
    "ExecuteTime": {
     "end_time": "2019-06-18T13:15:37.549131Z",
     "start_time": "2019-06-18T13:15:37.443840Z"
    },
    "collapsed": true
   },
   "outputs": [],
   "source": [
    "df_new.reset_index(drop = True, inplace = True)"
   ]
  },
  {
   "cell_type": "code",
   "execution_count": 159,
   "metadata": {
    "ExecuteTime": {
     "end_time": "2019-06-18T13:18:46.117492Z",
     "start_time": "2019-06-18T13:18:42.051622Z"
    },
    "collapsed": true
   },
   "outputs": [],
   "source": [
    "df_new.drop(['tag', 'title_2'], axis = 1, inplace = True)"
   ]
  },
  {
   "cell_type": "code",
   "execution_count": 161,
   "metadata": {
    "ExecuteTime": {
     "end_time": "2019-06-18T13:21:50.171999Z",
     "start_time": "2019-06-18T13:21:07.058930Z"
    },
    "collapsed": true
   },
   "outputs": [],
   "source": [
    "#df_new.to_csv('/users/zhengyiliang/Desktop/data&code/douban_book_collections/book_first_place_merge.csv', index = False, encoding = 'utf-8')"
   ]
  },
  {
   "cell_type": "markdown",
   "metadata": {},
   "source": [
    "## 2. describe the political books"
   ]
  },
  {
   "cell_type": "markdown",
   "metadata": {},
   "source": [
    "### 2.1 time dispersion(box plot)"
   ]
  },
  {
   "cell_type": "code",
   "execution_count": 183,
   "metadata": {
    "ExecuteTime": {
     "end_time": "2019-06-25T09:56:28.626460Z",
     "start_time": "2019-06-25T09:56:28.621353Z"
    },
    "collapsed": true
   },
   "outputs": [],
   "source": [
    "tags = ['政治哲学', '政治学','政治','自由主义', '威权主义', '马克思主义','极权主义', '民主', '社会主义', '资本主义', \n",
    "        '毛泽东', '邓小平', '文革']"
   ]
  },
  {
   "cell_type": "code",
   "execution_count": 184,
   "metadata": {
    "ExecuteTime": {
     "end_time": "2019-06-25T09:56:29.576703Z",
     "start_time": "2019-06-25T09:56:29.298135Z"
    },
    "collapsed": true
   },
   "outputs": [],
   "source": [
    "tag1 = df[df.tag_1.isin(tags)]"
   ]
  },
  {
   "cell_type": "code",
   "execution_count": 185,
   "metadata": {
    "ExecuteTime": {
     "end_time": "2019-06-25T09:56:30.248222Z",
     "start_time": "2019-06-25T09:56:30.070314Z"
    },
    "collapsed": true
   },
   "outputs": [],
   "source": [
    "tag2 = df[df.tag_2.isin(tags)]"
   ]
  },
  {
   "cell_type": "code",
   "execution_count": 186,
   "metadata": {
    "ExecuteTime": {
     "end_time": "2019-06-25T09:56:31.266186Z",
     "start_time": "2019-06-25T09:56:31.154538Z"
    },
    "collapsed": true
   },
   "outputs": [],
   "source": [
    "tag3 = df[df.tag_3.isin(tags)]"
   ]
  },
  {
   "cell_type": "code",
   "execution_count": 187,
   "metadata": {
    "ExecuteTime": {
     "end_time": "2019-06-25T09:56:32.034072Z",
     "start_time": "2019-06-25T09:56:31.999630Z"
    },
    "collapsed": true
   },
   "outputs": [],
   "source": [
    "df2 = pd.concat([tag1, tag2, tag3])"
   ]
  },
  {
   "cell_type": "code",
   "execution_count": 190,
   "metadata": {
    "ExecuteTime": {
     "end_time": "2019-06-25T09:56:36.342868Z",
     "start_time": "2019-06-25T09:56:36.335608Z"
    },
    "scrolled": true
   },
   "outputs": [
    {
     "data": {
      "text/plain": [
       "11069"
      ]
     },
     "execution_count": 190,
     "metadata": {},
     "output_type": "execute_result"
    }
   ],
   "source": [
    "len(df2)"
   ]
  },
  {
   "cell_type": "code",
   "execution_count": 189,
   "metadata": {
    "ExecuteTime": {
     "end_time": "2019-06-25T09:56:35.145243Z",
     "start_time": "2019-06-25T09:56:34.079513Z"
    },
    "collapsed": true
   },
   "outputs": [],
   "source": [
    "df2.drop_duplicates(keep = 'first', inplace = True)"
   ]
  },
  {
   "cell_type": "code",
   "execution_count": 193,
   "metadata": {
    "ExecuteTime": {
     "end_time": "2019-06-25T09:57:12.667827Z",
     "start_time": "2019-06-25T09:57:12.663132Z"
    },
    "collapsed": true
   },
   "outputs": [],
   "source": [
    "df2.reset_index(drop = True, inplace = True)"
   ]
  },
  {
   "cell_type": "code",
   "execution_count": 241,
   "metadata": {
    "ExecuteTime": {
     "end_time": "2019-06-25T10:39:29.128666Z",
     "start_time": "2019-06-25T10:39:27.753246Z"
    },
    "collapsed": true
   },
   "outputs": [],
   "source": [
    "df4 = df[df['pubdate'].dt.year > 2004]"
   ]
  },
  {
   "cell_type": "code",
   "execution_count": 196,
   "metadata": {
    "ExecuteTime": {
     "end_time": "2019-06-25T09:57:46.173443Z",
     "start_time": "2019-06-25T09:57:46.160374Z"
    },
    "collapsed": true
   },
   "outputs": [],
   "source": [
    "df3 = df2[df2['pubdate'].dt.year > 2004]"
   ]
  },
  {
   "cell_type": "code",
   "execution_count": 249,
   "metadata": {
    "ExecuteTime": {
     "end_time": "2019-06-25T10:45:22.893879Z",
     "start_time": "2019-06-25T10:45:22.888838Z"
    },
    "collapsed": true
   },
   "outputs": [],
   "source": [
    "l = list(df3['time_period'])"
   ]
  },
  {
   "cell_type": "code",
   "execution_count": 243,
   "metadata": {
    "ExecuteTime": {
     "end_time": "2019-06-25T10:40:24.213007Z",
     "start_time": "2019-06-25T10:40:24.154151Z"
    },
    "collapsed": true
   },
   "outputs": [],
   "source": [
    "al = list(df['time_period'])"
   ]
  },
  {
   "cell_type": "code",
   "execution_count": 257,
   "metadata": {
    "ExecuteTime": {
     "end_time": "2019-06-25T10:47:39.570263Z",
     "start_time": "2019-06-25T10:47:39.336723Z"
    },
    "collapsed": true
   },
   "outputs": [],
   "source": [
    "lol = []\n",
    "for i in al:\n",
    "    if i > 0:\n",
    "        lol.append(i)"
   ]
  },
  {
   "cell_type": "code",
   "execution_count": 255,
   "metadata": {
    "ExecuteTime": {
     "end_time": "2019-06-25T10:46:59.781182Z",
     "start_time": "2019-06-25T10:46:59.775142Z"
    }
   },
   "outputs": [
    {
     "data": {
      "text/plain": [
       "792078"
      ]
     },
     "execution_count": 255,
     "metadata": {},
     "output_type": "execute_result"
    }
   ],
   "source": [
    "len(al)"
   ]
  },
  {
   "cell_type": "code",
   "execution_count": 258,
   "metadata": {
    "ExecuteTime": {
     "end_time": "2019-06-25T10:47:40.950353Z",
     "start_time": "2019-06-25T10:47:40.943857Z"
    }
   },
   "outputs": [
    {
     "data": {
      "text/plain": [
       "647641"
      ]
     },
     "execution_count": 258,
     "metadata": {},
     "output_type": "execute_result"
    }
   ],
   "source": [
    "len(lol)"
   ]
  },
  {
   "cell_type": "code",
   "execution_count": 214,
   "metadata": {
    "ExecuteTime": {
     "end_time": "2019-06-25T10:13:29.041651Z",
     "start_time": "2019-06-25T10:13:29.017821Z"
    },
    "collapsed": true
   },
   "outputs": [],
   "source": [
    "ll = []\n",
    "for i in l:\n",
    "    if i > 0:\n",
    "        ll.append(i)"
   ]
  },
  {
   "cell_type": "code",
   "execution_count": 262,
   "metadata": {
    "ExecuteTime": {
     "end_time": "2019-06-25T10:51:41.968674Z",
     "start_time": "2019-06-25T10:51:41.963929Z"
    },
    "collapsed": true
   },
   "outputs": [],
   "source": [
    "xlabel = ['Political Books', 'All Books']"
   ]
  },
  {
   "cell_type": "code",
   "execution_count": 285,
   "metadata": {
    "ExecuteTime": {
     "end_time": "2019-06-25T11:13:01.222700Z",
     "start_time": "2019-06-25T11:13:00.552222Z"
    }
   },
   "outputs": [
    {
     "data": {
      "image/png": "[encoded data removed]",
      "text/plain": [
       "<Figure size 432x288 with 1 Axes>"
      ]
     },
     "metadata": {},
     "output_type": "display_data"
    }
   ],
   "source": [
    "data = [ll, lol]\n",
    "plt.boxplot(data, showfliers = False)\n",
    "plt.xticks([1, 2], ['Political Books', 'All books'])\n",
    "plt.title('The Dispersion of Reading Time in Books')\n",
    "plt.ylabel('The Time Period(Month)')\n",
    "\n",
    "plt.savefig('/users/zhengyiliang/Desktop/time_period2.png', bbox_inches='tight')"
   ]
  },
  {
   "cell_type": "markdown",
   "metadata": {},
   "source": [
    "### 2.2 time variation through years"
   ]
  },
  {
   "cell_type": "code",
   "execution_count": 304,
   "metadata": {
    "ExecuteTime": {
     "end_time": "2019-06-25T12:42:10.903254Z",
     "start_time": "2019-06-25T12:42:10.865577Z"
    }
   },
   "outputs": [
    {
     "data": {
      "text/html": [
       "<div>\n",
       "<style>\n",
       "    .dataframe thead tr:only-child th {\n",
       "        text-align: right;\n",
       "    }\n",
       "\n",
       "    .dataframe thead th {\n",
       "        text-align: left;\n",
       "    }\n",
       "\n",
       "    .dataframe tbody tr th {\n",
       "        vertical-align: top;\n",
       "    }\n",
       "</style>\n",
       "<table border=\"1\" class=\"dataframe\">\n",
       "  <thead>\n",
       "    <tr style=\"text-align: right;\">\n",
       "      <th></th>\n",
       "      <th>User_ID</th>\n",
       "      <th>book_id</th>\n",
       "      <th>rating</th>\n",
       "      <th>status</th>\n",
       "      <th>title</th>\n",
       "      <th>total</th>\n",
       "      <th>updated_time</th>\n",
       "      <th>author</th>\n",
       "      <th>summary</th>\n",
       "      <th>pubdate</th>\n",
       "      <th>publisher</th>\n",
       "      <th>tag_1</th>\n",
       "      <th>tag_2</th>\n",
       "      <th>tag_3</th>\n",
       "      <th>tagcount_1</th>\n",
       "      <th>tagcount_2</th>\n",
       "      <th>tagcount_3</th>\n",
       "      <th>updated_month_year</th>\n",
       "      <th>pubdate_month_year</th>\n",
       "      <th>time_period</th>\n",
       "    </tr>\n",
       "  </thead>\n",
       "  <tbody>\n",
       "    <tr>\n",
       "      <th>0</th>\n",
       "      <td>1000055</td>\n",
       "      <td>1084336</td>\n",
       "      <td>9.0</td>\n",
       "      <td>reading</td>\n",
       "      <td>小王子</td>\n",
       "      <td>12</td>\n",
       "      <td>2010-06-23 10:49:40</td>\n",
       "      <td>[法] 圣埃克苏佩里</td>\n",
       "      <td>小王子是一个超凡脱俗的仙童，他住在一颗只比他大一丁点儿的小行星上。陪伴他的是一朵他非常喜爱的...</td>\n",
       "      <td>2003-08-01</td>\n",
       "      <td>人民文学出版社</td>\n",
       "      <td>小王子</td>\n",
       "      <td>童话</td>\n",
       "      <td>经典</td>\n",
       "      <td>69578.0</td>\n",
       "      <td>59523.0</td>\n",
       "      <td>31358.0</td>\n",
       "      <td>2010-06</td>\n",
       "      <td>2003-08</td>\n",
       "      <td>82</td>\n",
       "    </tr>\n",
       "    <tr>\n",
       "      <th>1</th>\n",
       "      <td>1000055</td>\n",
       "      <td>1056621</td>\n",
       "      <td>6.8</td>\n",
       "      <td>read</td>\n",
       "      <td>蛋白质女孩</td>\n",
       "      <td>12</td>\n",
       "      <td>2005-06-18 02:51:54</td>\n",
       "      <td>王文华</td>\n",
       "      <td>《蛋白质女孩》以夸张的笔法，叙述了两个青年人在现代都市中寻找爱情的一则则小故事，通过他们所接...</td>\n",
       "      <td>2002-01-01</td>\n",
       "      <td>上海人民出版社</td>\n",
       "      <td>王文华</td>\n",
       "      <td>小说</td>\n",
       "      <td>台湾</td>\n",
       "      <td>182.0</td>\n",
       "      <td>128.0</td>\n",
       "      <td>107.0</td>\n",
       "      <td>2005-06</td>\n",
       "      <td>2002-01</td>\n",
       "      <td>41</td>\n",
       "    </tr>\n",
       "    <tr>\n",
       "      <th>2</th>\n",
       "      <td>1000055</td>\n",
       "      <td>1084973</td>\n",
       "      <td>8.9</td>\n",
       "      <td>read</td>\n",
       "      <td>基督山伯爵（上下）</td>\n",
       "      <td>12</td>\n",
       "      <td>2005-06-18 01:42:16</td>\n",
       "      <td>[法] 大仲马</td>\n",
       "      <td>《基督山伯爵》是大仲马的代表作。法老号大副唐泰斯受船长委托，为拿破仑党人送了一封信，遭到两个...</td>\n",
       "      <td>2001-08-01</td>\n",
       "      <td>上海译文出版社</td>\n",
       "      <td>大仲马</td>\n",
       "      <td>基督山伯爵</td>\n",
       "      <td>小说</td>\n",
       "      <td>869.0</td>\n",
       "      <td>596.0</td>\n",
       "      <td>522.0</td>\n",
       "      <td>2005-06</td>\n",
       "      <td>2001-08</td>\n",
       "      <td>46</td>\n",
       "    </tr>\n",
       "    <tr>\n",
       "      <th>3</th>\n",
       "      <td>1000055</td>\n",
       "      <td>1047637</td>\n",
       "      <td>7.5</td>\n",
       "      <td>read</td>\n",
       "      <td>世纪之辩</td>\n",
       "      <td>12</td>\n",
       "      <td>2005-06-18 02:59:08</td>\n",
       "      <td>NaN</td>\n",
       "      <td>世纪之辩：'99国际大专辩论会纪实与评析，ISBN：9787505204232，作者：余培侠...</td>\n",
       "      <td>1999-10-01</td>\n",
       "      <td>中国世界语出版社</td>\n",
       "      <td>辩论</td>\n",
       "      <td>中国</td>\n",
       "      <td>辩~辩论什么的，最~最讨厌了！！</td>\n",
       "      <td>32.0</td>\n",
       "      <td>7.0</td>\n",
       "      <td>3.0</td>\n",
       "      <td>2005-06</td>\n",
       "      <td>1999-10</td>\n",
       "      <td>68</td>\n",
       "    </tr>\n",
       "    <tr>\n",
       "      <th>4</th>\n",
       "      <td>1000055</td>\n",
       "      <td>1029967</td>\n",
       "      <td>7.2</td>\n",
       "      <td>read</td>\n",
       "      <td>风流才子纪晓岚</td>\n",
       "      <td>12</td>\n",
       "      <td>2005-06-18 01:46:10</td>\n",
       "      <td>杨子忱李建良宋益三</td>\n",
       "      <td>蒙学乡里\\n雍正二年(1724年)六月十五日午时一刻，纪天申饭后到书房纳凉，靠在\\n一张雕花...</td>\n",
       "      <td>2003-05-01</td>\n",
       "      <td>长春出版社</td>\n",
       "      <td>传记</td>\n",
       "      <td>历史</td>\n",
       "      <td>纪晓岚</td>\n",
       "      <td>17.0</td>\n",
       "      <td>12.0</td>\n",
       "      <td>11.0</td>\n",
       "      <td>2005-06</td>\n",
       "      <td>2003-05</td>\n",
       "      <td>25</td>\n",
       "    </tr>\n",
       "  </tbody>\n",
       "</table>\n",
       "</div>"
      ],
      "text/plain": [
       "   User_ID  book_id  rating   status      title  total        updated_time  \\\n",
       "0  1000055  1084336     9.0  reading        小王子     12 2010-06-23 10:49:40   \n",
       "1  1000055  1056621     6.8     read      蛋白质女孩     12 2005-06-18 02:51:54   \n",
       "2  1000055  1084973     8.9     read  基督山伯爵（上下）     12 2005-06-18 01:42:16   \n",
       "3  1000055  1047637     7.5     read       世纪之辩     12 2005-06-18 02:59:08   \n",
       "4  1000055  1029967     7.2     read    风流才子纪晓岚     12 2005-06-18 01:46:10   \n",
       "\n",
       "       author                                            summary    pubdate  \\\n",
       "0  [法] 圣埃克苏佩里  小王子是一个超凡脱俗的仙童，他住在一颗只比他大一丁点儿的小行星上。陪伴他的是一朵他非常喜爱的... 2003-08-01   \n",
       "1         王文华  《蛋白质女孩》以夸张的笔法，叙述了两个青年人在现代都市中寻找爱情的一则则小故事，通过他们所接... 2002-01-01   \n",
       "2     [法] 大仲马  《基督山伯爵》是大仲马的代表作。法老号大副唐泰斯受船长委托，为拿破仑党人送了一封信，遭到两个... 2001-08-01   \n",
       "3         NaN  世纪之辩：'99国际大专辩论会纪实与评析，ISBN：9787505204232，作者：余培侠... 1999-10-01   \n",
       "4   杨子忱李建良宋益三  蒙学乡里\\n雍正二年(1724年)六月十五日午时一刻，纪天申饭后到书房纳凉，靠在\\n一张雕花... 2003-05-01   \n",
       "\n",
       "  publisher tag_1  tag_2             tag_3  tagcount_1  tagcount_2  \\\n",
       "0   人民文学出版社   小王子     童话                经典     69578.0     59523.0   \n",
       "1   上海人民出版社   王文华     小说                台湾       182.0       128.0   \n",
       "2   上海译文出版社   大仲马  基督山伯爵                小说       869.0       596.0   \n",
       "3  中国世界语出版社    辩论     中国  辩~辩论什么的，最~最讨厌了！！        32.0         7.0   \n",
       "4     长春出版社    传记     历史               纪晓岚        17.0        12.0   \n",
       "\n",
       "   tagcount_3 updated_month_year pubdate_month_year time_period  \n",
       "0     31358.0            2010-06            2003-08          82  \n",
       "1       107.0            2005-06            2002-01          41  \n",
       "2       522.0            2005-06            2001-08          46  \n",
       "3         3.0            2005-06            1999-10          68  \n",
       "4        11.0            2005-06            2003-05          25  "
      ]
     },
     "execution_count": 304,
     "metadata": {},
     "output_type": "execute_result"
    }
   ],
   "source": [
    "df.head()"
   ]
  },
  {
   "cell_type": "code",
   "execution_count": 183,
   "metadata": {
    "ExecuteTime": {
     "end_time": "2019-06-25T09:56:28.626460Z",
     "start_time": "2019-06-25T09:56:28.621353Z"
    },
    "collapsed": true
   },
   "outputs": [],
   "source": [
    "tags = ['政治哲学', '政治学','政治','自由主义', '威权主义', '马克思主义','极权主义', '民主', '社会主义', '资本主义', \n",
    "        '毛泽东', '邓小平', '文革']"
   ]
  },
  {
   "cell_type": "code",
   "execution_count": 184,
   "metadata": {
    "ExecuteTime": {
     "end_time": "2019-06-25T09:56:29.576703Z",
     "start_time": "2019-06-25T09:56:29.298135Z"
    },
    "collapsed": true
   },
   "outputs": [],
   "source": [
    "tag1 = df[df.tag_1.isin(tags)]"
   ]
  },
  {
   "cell_type": "code",
   "execution_count": 185,
   "metadata": {
    "ExecuteTime": {
     "end_time": "2019-06-25T09:56:30.248222Z",
     "start_time": "2019-06-25T09:56:30.070314Z"
    },
    "collapsed": true
   },
   "outputs": [],
   "source": [
    "tag2 = df[df.tag_2.isin(tags)]"
   ]
  },
  {
   "cell_type": "code",
   "execution_count": 186,
   "metadata": {
    "ExecuteTime": {
     "end_time": "2019-06-25T09:56:31.266186Z",
     "start_time": "2019-06-25T09:56:31.154538Z"
    },
    "collapsed": true
   },
   "outputs": [],
   "source": [
    "tag3 = df[df.tag_3.isin(tags)]"
   ]
  },
  {
   "cell_type": "code",
   "execution_count": 187,
   "metadata": {
    "ExecuteTime": {
     "end_time": "2019-06-25T09:56:32.034072Z",
     "start_time": "2019-06-25T09:56:31.999630Z"
    },
    "collapsed": true
   },
   "outputs": [],
   "source": [
    "df2 = pd.concat([tag1, tag2, tag3])"
   ]
  },
  {
   "cell_type": "code",
   "execution_count": 190,
   "metadata": {
    "ExecuteTime": {
     "end_time": "2019-06-25T09:56:36.342868Z",
     "start_time": "2019-06-25T09:56:36.335608Z"
    },
    "scrolled": true
   },
   "outputs": [
    {
     "data": {
      "text/plain": [
       "11069"
      ]
     },
     "execution_count": 190,
     "metadata": {},
     "output_type": "execute_result"
    }
   ],
   "source": [
    "len(df2)"
   ]
  },
  {
   "cell_type": "code",
   "execution_count": 189,
   "metadata": {
    "ExecuteTime": {
     "end_time": "2019-06-25T09:56:35.145243Z",
     "start_time": "2019-06-25T09:56:34.079513Z"
    },
    "collapsed": true
   },
   "outputs": [],
   "source": [
    "df2.drop_duplicates(keep = 'first', inplace = True)"
   ]
  },
  {
   "cell_type": "code",
   "execution_count": 193,
   "metadata": {
    "ExecuteTime": {
     "end_time": "2019-06-25T09:57:12.667827Z",
     "start_time": "2019-06-25T09:57:12.663132Z"
    },
    "collapsed": true
   },
   "outputs": [],
   "source": [
    "df2.reset_index(drop = True, inplace = True)"
   ]
  },
  {
   "cell_type": "code",
   "execution_count": 309,
   "metadata": {
    "ExecuteTime": {
     "end_time": "2019-06-25T12:44:13.037757Z",
     "start_time": "2019-06-25T12:44:13.032291Z"
    }
   },
   "outputs": [
    {
     "data": {
      "text/plain": [
       "16"
      ]
     },
     "execution_count": 309,
     "metadata": {},
     "output_type": "execute_result"
    }
   ],
   "source": [
    "len(df2.columns)"
   ]
  },
  {
   "cell_type": "code",
   "execution_count": 306,
   "metadata": {
    "ExecuteTime": {
     "end_time": "2019-06-25T12:43:32.054285Z",
     "start_time": "2019-06-25T12:43:32.012637Z"
    },
    "collapsed": true
   },
   "outputs": [],
   "source": [
    "df2.drop(['rating', 'updated_month_year', 'pubdate_month_year','time_period'], axis = 1, inplace = True)"
   ]
  },
  {
   "cell_type": "code",
   "execution_count": 310,
   "metadata": {
    "ExecuteTime": {
     "end_time": "2019-06-25T12:44:29.586965Z",
     "start_time": "2019-06-25T12:44:29.580559Z"
    }
   },
   "outputs": [
    {
     "data": {
      "text/plain": [
       "16"
      ]
     },
     "execution_count": 310,
     "metadata": {},
     "output_type": "execute_result"
    }
   ],
   "source": [
    "#tag_books.dtypes\n",
    "len(tag_books.columns)"
   ]
  },
  {
   "cell_type": "code",
   "execution_count": 317,
   "metadata": {
    "ExecuteTime": {
     "end_time": "2019-06-25T12:47:20.574375Z",
     "start_time": "2019-06-25T12:47:20.540296Z"
    }
   },
   "outputs": [
    {
     "data": {
      "text/html": [
       "<div>\n",
       "<style>\n",
       "    .dataframe thead tr:only-child th {\n",
       "        text-align: right;\n",
       "    }\n",
       "\n",
       "    .dataframe thead th {\n",
       "        text-align: left;\n",
       "    }\n",
       "\n",
       "    .dataframe tbody tr th {\n",
       "        vertical-align: top;\n",
       "    }\n",
       "</style>\n",
       "<table border=\"1\" class=\"dataframe\">\n",
       "  <thead>\n",
       "    <tr style=\"text-align: right;\">\n",
       "      <th></th>\n",
       "      <th>User_ID</th>\n",
       "      <th>book_id</th>\n",
       "      <th>status</th>\n",
       "      <th>title</th>\n",
       "      <th>total</th>\n",
       "      <th>updated_time</th>\n",
       "      <th>author</th>\n",
       "      <th>summary</th>\n",
       "      <th>pubdate</th>\n",
       "      <th>publisher</th>\n",
       "      <th>tag_1</th>\n",
       "      <th>tag_2</th>\n",
       "      <th>tag_3</th>\n",
       "      <th>tagcount_1</th>\n",
       "      <th>tagcount_2</th>\n",
       "      <th>tagcount_3</th>\n",
       "    </tr>\n",
       "  </thead>\n",
       "  <tbody>\n",
       "    <tr>\n",
       "      <th>0</th>\n",
       "      <td>1000384</td>\n",
       "      <td>26584823</td>\n",
       "      <td>wish</td>\n",
       "      <td>毛泽东传（插图本）</td>\n",
       "      <td>643</td>\n",
       "      <td>2016-11-26 19:01:10</td>\n",
       "      <td>亚历山大·潘佐夫</td>\n",
       "      <td>◆\\t透过苏联解密档案，独家解读毛泽东与斯大林、赫鲁晓夫的往来交恶秘闻，描绘苏联扶植、操控、...</td>\n",
       "      <td>2015-08-01</td>\n",
       "      <td>中国人民大学出版社</td>\n",
       "      <td>毛泽东</td>\n",
       "      <td>传记</td>\n",
       "      <td>历史</td>\n",
       "      <td>163.0</td>\n",
       "      <td>162.0</td>\n",
       "      <td>107.0</td>\n",
       "    </tr>\n",
       "    <tr>\n",
       "      <th>1</th>\n",
       "      <td>1000384</td>\n",
       "      <td>1076509</td>\n",
       "      <td>wish</td>\n",
       "      <td>变化社会中的政治秩序</td>\n",
       "      <td>643</td>\n",
       "      <td>2014-01-06 19:16:43</td>\n",
       "      <td>[美] 塞缪尔·P·亨廷顿</td>\n",
       "      <td>研究政治发展的重要著作，特别是提出“政治稳定=政治制度/政治参与”的著名公式。研究Hunti...</td>\n",
       "      <td>1989-07-01</td>\n",
       "      <td>生活·读书·新知三联书店</td>\n",
       "      <td>政治学</td>\n",
       "      <td>亨廷顿</td>\n",
       "      <td>政治</td>\n",
       "      <td>573.0</td>\n",
       "      <td>412.0</td>\n",
       "      <td>230.0</td>\n",
       "    </tr>\n",
       "  </tbody>\n",
       "</table>\n",
       "</div>"
      ],
      "text/plain": [
       "   User_ID   book_id status       title  total        updated_time  \\\n",
       "0  1000384  26584823   wish   毛泽东传（插图本）    643 2016-11-26 19:01:10   \n",
       "1  1000384   1076509   wish  变化社会中的政治秩序    643 2014-01-06 19:16:43   \n",
       "\n",
       "          author                                            summary  \\\n",
       "0       亚历山大·潘佐夫  ◆\\t透过苏联解密档案，独家解读毛泽东与斯大林、赫鲁晓夫的往来交恶秘闻，描绘苏联扶植、操控、...   \n",
       "1  [美] 塞缪尔·P·亨廷顿  研究政治发展的重要著作，特别是提出“政治稳定=政治制度/政治参与”的著名公式。研究Hunti...   \n",
       "\n",
       "     pubdate     publisher tag_1 tag_2 tag_3  tagcount_1  tagcount_2  \\\n",
       "0 2015-08-01     中国人民大学出版社   毛泽东    传记    历史       163.0       162.0   \n",
       "1 1989-07-01  生活·读书·新知三联书店   政治学   亨廷顿    政治       573.0       412.0   \n",
       "\n",
       "   tagcount_3  \n",
       "0       107.0  \n",
       "1       230.0  "
      ]
     },
     "execution_count": 317,
     "metadata": {},
     "output_type": "execute_result"
    }
   ],
   "source": [
    "df2.loc[:1]"
   ]
  },
  {
   "cell_type": "code",
   "execution_count": 288,
   "metadata": {
    "ExecuteTime": {
     "end_time": "2019-06-25T12:34:35.657191Z",
     "start_time": "2019-06-25T12:33:38.921102Z"
    },
    "collapsed": true
   },
   "outputs": [],
   "source": [
    "df_1 = pd.read_csv('/users/zhengyiliang/Desktop/data&code/douban_book_collections/all_summary_bookid.csv')"
   ]
  },
  {
   "cell_type": "code",
   "execution_count": 290,
   "metadata": {
    "ExecuteTime": {
     "end_time": "2019-06-25T12:34:59.980721Z",
     "start_time": "2019-06-25T12:34:58.864727Z"
    },
    "collapsed": true
   },
   "outputs": [],
   "source": [
    "tag_1 = df_1[df_1.tag_1.isin(tags)]"
   ]
  },
  {
   "cell_type": "code",
   "execution_count": 291,
   "metadata": {
    "ExecuteTime": {
     "end_time": "2019-06-25T12:35:01.702075Z",
     "start_time": "2019-06-25T12:35:00.704442Z"
    },
    "collapsed": true
   },
   "outputs": [],
   "source": [
    "tag_2 = df_1[df_1.tag_2.isin(tags)]"
   ]
  },
  {
   "cell_type": "code",
   "execution_count": 292,
   "metadata": {
    "ExecuteTime": {
     "end_time": "2019-06-25T12:35:03.254109Z",
     "start_time": "2019-06-25T12:35:02.284329Z"
    },
    "collapsed": true
   },
   "outputs": [],
   "source": [
    "tag_3 = df_1[df_1.tag_3.isin(tags)]"
   ]
  },
  {
   "cell_type": "code",
   "execution_count": 295,
   "metadata": {
    "ExecuteTime": {
     "end_time": "2019-06-25T12:35:44.628615Z",
     "start_time": "2019-06-25T12:35:44.535547Z"
    },
    "collapsed": true
   },
   "outputs": [],
   "source": [
    "tag_books = pd.concat([tag_1, tag_2, tag_3])"
   ]
  },
  {
   "cell_type": "code",
   "execution_count": 298,
   "metadata": {
    "ExecuteTime": {
     "end_time": "2019-06-25T12:36:00.940948Z",
     "start_time": "2019-06-25T12:36:00.934304Z"
    }
   },
   "outputs": [
    {
     "data": {
      "text/plain": [
       "36089"
      ]
     },
     "execution_count": 298,
     "metadata": {},
     "output_type": "execute_result"
    }
   ],
   "source": [
    "len(tag_books)"
   ]
  },
  {
   "cell_type": "code",
   "execution_count": 297,
   "metadata": {
    "ExecuteTime": {
     "end_time": "2019-06-25T12:35:58.467870Z",
     "start_time": "2019-06-25T12:35:58.172213Z"
    },
    "collapsed": true
   },
   "outputs": [],
   "source": [
    "tag_books.drop_duplicates(keep = 'first', inplace = True)"
   ]
  },
  {
   "cell_type": "code",
   "execution_count": 313,
   "metadata": {
    "ExecuteTime": {
     "end_time": "2019-06-25T12:46:36.365060Z",
     "start_time": "2019-06-25T12:46:36.251359Z"
    },
    "collapsed": true
   },
   "outputs": [],
   "source": [
    "df3 = pd.concat([df2, tag_books], ignore_index = True)"
   ]
  },
  {
   "cell_type": "code",
   "execution_count": 314,
   "metadata": {
    "ExecuteTime": {
     "end_time": "2019-06-25T12:46:41.065589Z",
     "start_time": "2019-06-25T12:46:41.059166Z"
    }
   },
   "outputs": [
    {
     "data": {
      "text/plain": [
       "47158"
      ]
     },
     "execution_count": 314,
     "metadata": {},
     "output_type": "execute_result"
    }
   ],
   "source": [
    "len(df3)"
   ]
  },
  {
   "cell_type": "code",
   "execution_count": 318,
   "metadata": {
    "ExecuteTime": {
     "end_time": "2019-06-25T12:47:33.488694Z",
     "start_time": "2019-06-25T12:47:33.458865Z"
    }
   },
   "outputs": [
    {
     "data": {
      "text/html": [
       "<div>\n",
       "<style>\n",
       "    .dataframe thead tr:only-child th {\n",
       "        text-align: right;\n",
       "    }\n",
       "\n",
       "    .dataframe thead th {\n",
       "        text-align: left;\n",
       "    }\n",
       "\n",
       "    .dataframe tbody tr th {\n",
       "        vertical-align: top;\n",
       "    }\n",
       "</style>\n",
       "<table border=\"1\" class=\"dataframe\">\n",
       "  <thead>\n",
       "    <tr style=\"text-align: right;\">\n",
       "      <th></th>\n",
       "      <th>User_ID</th>\n",
       "      <th>author</th>\n",
       "      <th>book_id</th>\n",
       "      <th>pubdate</th>\n",
       "      <th>publisher</th>\n",
       "      <th>status</th>\n",
       "      <th>summary</th>\n",
       "      <th>tag_1</th>\n",
       "      <th>tag_2</th>\n",
       "      <th>tag_3</th>\n",
       "      <th>tagcount_1</th>\n",
       "      <th>tagcount_2</th>\n",
       "      <th>tagcount_3</th>\n",
       "      <th>title</th>\n",
       "      <th>total</th>\n",
       "      <th>updated_time</th>\n",
       "    </tr>\n",
       "  </thead>\n",
       "  <tbody>\n",
       "    <tr>\n",
       "      <th>0</th>\n",
       "      <td>1000384</td>\n",
       "      <td>亚历山大·潘佐夫</td>\n",
       "      <td>26584823</td>\n",
       "      <td>2015-08-01 00:00:00</td>\n",
       "      <td>中国人民大学出版社</td>\n",
       "      <td>wish</td>\n",
       "      <td>◆\\t透过苏联解密档案，独家解读毛泽东与斯大林、赫鲁晓夫的往来交恶秘闻，描绘苏联扶植、操控、...</td>\n",
       "      <td>毛泽东</td>\n",
       "      <td>传记</td>\n",
       "      <td>历史</td>\n",
       "      <td>163.0</td>\n",
       "      <td>162.0</td>\n",
       "      <td>107.0</td>\n",
       "      <td>毛泽东传（插图本）</td>\n",
       "      <td>643</td>\n",
       "      <td>2016-11-26 19:01:10</td>\n",
       "    </tr>\n",
       "    <tr>\n",
       "      <th>1</th>\n",
       "      <td>1000384</td>\n",
       "      <td>[美] 塞缪尔·P·亨廷顿</td>\n",
       "      <td>1076509</td>\n",
       "      <td>1989-07-01 00:00:00</td>\n",
       "      <td>生活·读书·新知三联书店</td>\n",
       "      <td>wish</td>\n",
       "      <td>研究政治发展的重要著作，特别是提出“政治稳定=政治制度/政治参与”的著名公式。研究Hunti...</td>\n",
       "      <td>政治学</td>\n",
       "      <td>亨廷顿</td>\n",
       "      <td>政治</td>\n",
       "      <td>573.0</td>\n",
       "      <td>412.0</td>\n",
       "      <td>230.0</td>\n",
       "      <td>变化社会中的政治秩序</td>\n",
       "      <td>643</td>\n",
       "      <td>2014-01-06 19:16:43</td>\n",
       "    </tr>\n",
       "  </tbody>\n",
       "</table>\n",
       "</div>"
      ],
      "text/plain": [
       "   User_ID         author   book_id              pubdate     publisher status  \\\n",
       "0  1000384       亚历山大·潘佐夫  26584823  2015-08-01 00:00:00     中国人民大学出版社   wish   \n",
       "1  1000384  [美] 塞缪尔·P·亨廷顿   1076509  1989-07-01 00:00:00  生活·读书·新知三联书店   wish   \n",
       "\n",
       "                                             summary tag_1 tag_2 tag_3  \\\n",
       "0  ◆\\t透过苏联解密档案，独家解读毛泽东与斯大林、赫鲁晓夫的往来交恶秘闻，描绘苏联扶植、操控、...   毛泽东    传记    历史   \n",
       "1  研究政治发展的重要著作，特别是提出“政治稳定=政治制度/政治参与”的著名公式。研究Hunti...   政治学   亨廷顿    政治   \n",
       "\n",
       "   tagcount_1  tagcount_2  tagcount_3       title  total         updated_time  \n",
       "0       163.0       162.0       107.0   毛泽东传（插图本）    643  2016-11-26 19:01:10  \n",
       "1       573.0       412.0       230.0  变化社会中的政治秩序    643  2014-01-06 19:16:43  "
      ]
     },
     "execution_count": 318,
     "metadata": {},
     "output_type": "execute_result"
    }
   ],
   "source": [
    "df3.loc[:1]"
   ]
  },
  {
   "cell_type": "code",
   "execution_count": 354,
   "metadata": {
    "ExecuteTime": {
     "end_time": "2019-06-25T13:14:23.980194Z",
     "start_time": "2019-06-25T13:14:23.976921Z"
    },
    "collapsed": true
   },
   "outputs": [],
   "source": [
    "#df3.dtypes"
   ]
  },
  {
   "cell_type": "code",
   "execution_count": 355,
   "metadata": {
    "ExecuteTime": {
     "end_time": "2019-06-25T13:15:50.980754Z",
     "start_time": "2019-06-25T13:15:50.974384Z"
    },
    "collapsed": true
   },
   "outputs": [],
   "source": [
    "all_books = df3"
   ]
  },
  {
   "cell_type": "code",
   "execution_count": 356,
   "metadata": {
    "ExecuteTime": {
     "end_time": "2019-06-25T13:16:02.752553Z",
     "start_time": "2019-06-25T13:16:02.287895Z"
    },
    "collapsed": true
   },
   "outputs": [],
   "source": [
    "data = all_books.drop_duplicates(['book_id'], keep = 'first')"
   ]
  },
  {
   "cell_type": "code",
   "execution_count": 357,
   "metadata": {
    "ExecuteTime": {
     "end_time": "2019-06-25T13:16:10.585519Z",
     "start_time": "2019-06-25T13:16:10.560584Z"
    },
    "collapsed": true
   },
   "outputs": [],
   "source": [
    "data_1 = data[data.duplicated(['title'], keep = 'first')]"
   ]
  },
  {
   "cell_type": "code",
   "execution_count": 360,
   "metadata": {
    "ExecuteTime": {
     "end_time": "2019-06-25T13:17:43.343254Z",
     "start_time": "2019-06-25T13:17:36.545959Z"
    },
    "collapsed": true
   },
   "outputs": [],
   "source": [
    "for i in data_1['title']:\n",
    "    idx = all_books.index[all_books['title'] == i]\n",
    "    book_id = all_books.loc[idx[0]]['book_id']\n",
    "    for j in idx:\n",
    "        all_books.set_value(j, 'book_id', book_id)"
   ]
  },
  {
   "cell_type": "code",
   "execution_count": 361,
   "metadata": {
    "ExecuteTime": {
     "end_time": "2019-06-25T13:18:27.470005Z",
     "start_time": "2019-06-25T13:18:24.834810Z"
    }
   },
   "outputs": [
    {
     "name": "stderr",
     "output_type": "stream",
     "text": [
      "/anaconda/lib/python3.6/site-packages/ipykernel_launcher.py:7: SettingWithCopyWarning: \n",
      "A value is trying to be set on a copy of a slice from a DataFrame\n",
      "\n",
      "See the caveats in the documentation: http://pandas.pydata.org/pandas-docs/stable/indexing.html#indexing-view-versus-copy\n",
      "  import sys\n",
      "/anaconda/lib/python3.6/site-packages/ipykernel_launcher.py:8: SettingWithCopyWarning: \n",
      "A value is trying to be set on a copy of a slice from a DataFrame\n",
      "\n",
      "See the caveats in the documentation: http://pandas.pydata.org/pandas-docs/stable/indexing.html#indexing-view-versus-copy\n",
      "  \n"
     ]
    }
   ],
   "source": [
    "book = all_books['book_id']\n",
    "book = pd.DataFrame(book, columns = ['book_id'])\n",
    "book['frequency'] = book.groupby('book_id')['book_id'].transform('count')\n",
    "book_all_1 = pd.concat([all_books, book], axis = 1, join ='outer') \n",
    "\n",
    "book_all = book_all_1.loc[:,~book_all_1.columns.duplicated()]\n",
    "book_all.drop_duplicates(['book_id'], keep = 'first', inplace = True)\n",
    "book_all.sort_values(by = ['frequency'], inplace = True, ascending = False)"
   ]
  },
  {
   "cell_type": "code",
   "execution_count": 583,
   "metadata": {
    "ExecuteTime": {
     "end_time": "2019-06-27T11:42:07.370115Z",
     "start_time": "2019-06-27T11:42:03.476584Z"
    }
   },
   "outputs": [
    {
     "data": {
      "image/png": "[encoded data removed]",
      "text/plain": [
       "<Figure size 432x288 with 1 Axes>"
      ]
     },
     "metadata": {},
     "output_type": "display_data"
    }
   ],
   "source": [
    "import matplotlib\n",
    "top20 = list(book_all[:20]['title'])\n",
    "#('1984','中国历代政治得失','民主的细节', '邓小平时代','中国国家治理的制度逻辑','辩论：美国制宪会议记录','历史深处的忧虑',\n",
    "         #'通往奴役之路','君主论','独裁者手册')\n",
    "\n",
    "y_pos = np.arange(len(top20))\n",
    "number = list(book_all[:20]['frequency'])\n",
    "#[95, 39, 26, 26, 18, 18, 15, 13, 13, 12]\n",
    "\n",
    "font = matplotlib.font_manager.FontProperties(fname = r\"/Library/Fonts/华文仿宋.ttf\", size = 10)\n",
    "\n",
    "plt.barh(y_pos, number, align ='center', color ='orange')\n",
    "plt.yticks(y_pos, top20, fontproperties = font)\n",
    "plt.xlabel('The Number of Books Users take an interest in')\n",
    "plt.title('Top 20 Political Books from 2005 to 2019')\n",
    "\n",
    "plt.savefig('/users/zhengyiliang/Desktop/all.pdf', bbox_inches='tight')\n",
    "plt.show()"
   ]
  },
  {
   "cell_type": "code",
   "execution_count": 365,
   "metadata": {
    "ExecuteTime": {
     "end_time": "2019-06-25T14:13:59.390096Z",
     "start_time": "2019-06-25T14:13:59.376344Z"
    }
   },
   "outputs": [
    {
     "data": {
      "text/plain": [
       "47158"
      ]
     },
     "execution_count": 365,
     "metadata": {},
     "output_type": "execute_result"
    }
   ],
   "source": [
    "len(df3)"
   ]
  },
  {
   "cell_type": "code",
   "execution_count": 582,
   "metadata": {
    "ExecuteTime": {
     "end_time": "2019-06-27T11:13:33.944522Z",
     "start_time": "2019-06-27T11:13:33.906150Z"
    }
   },
   "outputs": [
    {
     "data": {
      "text/plain": [
       "10064"
      ]
     },
     "execution_count": 582,
     "metadata": {},
     "output_type": "execute_result"
    }
   ],
   "source": [
    "len(df3.drop_duplicates(['User_ID'], keep = 'first')) #10,000 users"
   ]
  },
  {
   "cell_type": "code",
   "execution_count": 472,
   "metadata": {
    "ExecuteTime": {
     "end_time": "2019-06-26T10:47:34.612205Z",
     "start_time": "2019-06-26T10:47:34.394036Z"
    },
    "collapsed": true
   },
   "outputs": [],
   "source": [
    "book_all = book_all[book_all['pubdate'].dt.year > 2004]"
   ]
  },
  {
   "cell_type": "code",
   "execution_count": 475,
   "metadata": {
    "ExecuteTime": {
     "end_time": "2019-06-26T10:49:45.472425Z",
     "start_time": "2019-06-26T10:49:45.468213Z"
    },
    "collapsed": true
   },
   "outputs": [],
   "source": [
    "title = list(book_all['title'][:100])"
   ]
  },
  {
   "cell_type": "code",
   "execution_count": 477,
   "metadata": {
    "ExecuteTime": {
     "end_time": "2019-06-26T10:50:22.143749Z",
     "start_time": "2019-06-26T10:50:22.135982Z"
    }
   },
   "outputs": [
    {
     "data": {
      "text/plain": [
       "['民主的细节',\n",
       " '1984',\n",
       " '君主论',\n",
       " '邓小平时代',\n",
       " '论美国的民主',\n",
       " '朱镕基答记者问',\n",
       " '如彗星划过夜空',\n",
       " '文明的冲突与世界秩序的重建',\n",
       " '极权主义的起源',\n",
       " '论自由']"
      ]
     },
     "execution_count": 477,
     "metadata": {},
     "output_type": "execute_result"
    }
   ],
   "source": [
    "title[:10]"
   ]
  },
  {
   "cell_type": "code",
   "execution_count": 478,
   "metadata": {
    "ExecuteTime": {
     "end_time": "2019-06-26T10:52:37.508256Z",
     "start_time": "2019-06-26T10:52:31.396448Z"
    },
    "collapsed": true
   },
   "outputs": [],
   "source": [
    "#booklist = ['民主的细节']\n",
    "booklist = title\n",
    "freq = []\n",
    "for i in booklist:\n",
    "    data = all_books[all_books['title'] == i]\n",
    "    y19 = len(data[data['updated_time'].dt.year == 2019])\n",
    "    y18 = len(data[data['updated_time'].dt.year == 2018])\n",
    "    y17 = len(data[data['updated_time'].dt.year == 2017])\n",
    "    y16 = len(data[data['updated_time'].dt.year == 2016])\n",
    "    y15 = len(data[data['updated_time'].dt.year == 2015])\n",
    "    y14 = len(data[data['updated_time'].dt.year == 2014])\n",
    "    y13 = len(data[data['updated_time'].dt.year == 2013])\n",
    "    y12 = len(data[data['updated_time'].dt.year == 2012])\n",
    "    y11 = len(data[data['updated_time'].dt.year == 2011])\n",
    "    y10 = len(data[data['updated_time'].dt.year == 2010])\n",
    "    y09 = len(data[data['updated_time'].dt.year == 2009])\n",
    "    y08 = len(data[data['updated_time'].dt.year == 2008])\n",
    "    y07 = len(data[data['updated_time'].dt.year == 2007])\n",
    "    y06 = len(data[data['updated_time'].dt.year == 2006])\n",
    "    y05 = len(data[data['updated_time'].dt.year == 2005])\n",
    "    freq.append([y05, y06, y07, y08, y09, y10, y11, y12, y13, y14, y15, y16, y17, y18, y19])"
   ]
  },
  {
   "cell_type": "code",
   "execution_count": 479,
   "metadata": {
    "ExecuteTime": {
     "end_time": "2019-06-26T10:52:41.168561Z",
     "start_time": "2019-06-26T10:52:41.163194Z"
    },
    "scrolled": false
   },
   "outputs": [
    {
     "data": {
      "text/plain": [
       "100"
      ]
     },
     "execution_count": 479,
     "metadata": {},
     "output_type": "execute_result"
    }
   ],
   "source": [
    "len(freq)"
   ]
  },
  {
   "cell_type": "code",
   "execution_count": 585,
   "metadata": {
    "ExecuteTime": {
     "start_time": "2019-06-27T11:59:53.749Z"
    },
    "scrolled": true
   },
   "outputs": [
    {
     "data": {
      "text/plain": [
       "[[0, 0, 0, 0, 225, 405, 445, 313, 200, 111, 68, 38, 56, 63, 30],\n",
       " [0, 0, 0, 0, 3, 124, 173, 121, 120, 107, 110, 132, 171, 240, 112],\n",
       " [0, 6, 17, 58, 85, 64, 41, 57, 28, 17, 22, 15, 25, 34, 17],\n",
       " [0, 0, 0, 5, 6, 2, 6, 24, 177, 55, 40, 29, 43, 57, 29],\n",
       " [1, 2, 17, 29, 52, 48, 66, 59, 42, 28, 18, 21, 21, 25, 15]]"
      ]
     },
     "execution_count": 585,
     "metadata": {},
     "output_type": "execute_result"
    }
   ],
   "source": [
    "freq[:5]"
   ]
  },
  {
   "cell_type": "code",
   "execution_count": 502,
   "metadata": {
    "ExecuteTime": {
     "end_time": "2019-06-26T12:12:05.450148Z",
     "start_time": "2019-06-26T12:12:05.445276Z"
    },
    "collapsed": true
   },
   "outputs": [],
   "source": [
    "newfreq = []\n",
    "for i in freq:\n",
    "    newlist = []\n",
    "    for j in i:\n",
    "        if j != 0:\n",
    "            newlist.append(j)\n",
    "    newfreq.append(newlist)"
   ]
  },
  {
   "cell_type": "code",
   "execution_count": 554,
   "metadata": {
    "ExecuteTime": {
     "end_time": "2019-06-26T12:12:02.166268Z",
     "start_time": "2019-06-26T12:12:02.159573Z"
    },
    "scrolled": true
   },
   "outputs": [
    {
     "data": {
      "text/plain": [
       "[[225, 405, 445, 313, 200, 111, 68, 38, 56, 63, 30],\n",
       " [3, 124, 173, 121, 120, 107, 110, 132, 171, 240, 112]]"
      ]
     },
     "execution_count": 554,
     "metadata": {},
     "output_type": "execute_result"
    }
   ],
   "source": [
    "newfreq[:2]"
   ]
  },
  {
   "cell_type": "code",
   "execution_count": 555,
   "metadata": {
    "ExecuteTime": {
     "end_time": "2019-06-26T12:12:05.450148Z",
     "start_time": "2019-06-26T12:12:05.445276Z"
    },
    "collapsed": true
   },
   "outputs": [],
   "source": [
    "for i in newfreq:\n",
    "    i.extend([0 for j in range(15-len(i))])   "
   ]
  },
  {
   "cell_type": "code",
   "execution_count": 556,
   "metadata": {
    "ExecuteTime": {
     "end_time": "2019-06-26T12:12:06.730154Z",
     "start_time": "2019-06-26T12:12:06.724176Z"
    }
   },
   "outputs": [
    {
     "data": {
      "text/plain": [
       "[[225, 405, 445, 313, 200, 111, 68, 38, 56, 63, 30, 0, 0, 0, 0],\n",
       " [3, 124, 173, 121, 120, 107, 110, 132, 171, 240, 112, 0, 0, 0, 0]]"
      ]
     },
     "execution_count": 556,
     "metadata": {},
     "output_type": "execute_result"
    }
   ],
   "source": [
    "newfreq[:2]"
   ]
  },
  {
   "cell_type": "code",
   "execution_count": 557,
   "metadata": {
    "ExecuteTime": {
     "end_time": "2019-06-26T12:12:07.835682Z",
     "start_time": "2019-06-26T12:12:07.831066Z"
    },
    "collapsed": true
   },
   "outputs": [],
   "source": [
    "for i in newfreq:\n",
    "    for j, k in enumerate(i):\n",
    "        if k == 0:\n",
    "            i[j] = None"
   ]
  },
  {
   "cell_type": "code",
   "execution_count": 558,
   "metadata": {
    "ExecuteTime": {
     "end_time": "2019-06-26T12:12:08.900950Z",
     "start_time": "2019-06-26T12:12:08.893688Z"
    }
   },
   "outputs": [
    {
     "data": {
      "text/plain": [
       "[[225, 405, 445, 313, 200, 111, 68, 38, 56, 63, 30, None, None, None, None],\n",
       " [3, 124, 173, 121, 120, 107, 110, 132, 171, 240, 112, None, None, None, None],\n",
       " [6, 17, 58, 85, 64, 41, 57, 28, 17, 22, 15, 25, 34, 17, None],\n",
       " [5, 6, 2, 6, 24, 177, 55, 40, 29, 43, 57, 29, None, None, None],\n",
       " [1, 2, 17, 29, 52, 48, 66, 59, 42, 28, 18, 21, 21, 25, 15]]"
      ]
     },
     "execution_count": 558,
     "metadata": {},
     "output_type": "execute_result"
    }
   ],
   "source": [
    "newfreq[:5]"
   ]
  },
  {
   "cell_type": "code",
   "execution_count": 490,
   "metadata": {
    "ExecuteTime": {
     "end_time": "2019-06-26T10:57:33.861658Z",
     "start_time": "2019-06-26T10:57:33.855145Z"
    }
   },
   "outputs": [
    {
     "data": {
      "text/plain": [
       "100"
      ]
     },
     "execution_count": 490,
     "metadata": {},
     "output_type": "execute_result"
    }
   ],
   "source": [
    "len(newfreq)"
   ]
  },
  {
   "cell_type": "code",
   "execution_count": 491,
   "metadata": {
    "ExecuteTime": {
     "end_time": "2019-06-26T10:58:04.638084Z",
     "start_time": "2019-06-26T10:58:04.632086Z"
    }
   },
   "outputs": [
    {
     "data": {
      "text/plain": [
       "['民主的细节',\n",
       " '1984',\n",
       " '君主论',\n",
       " '邓小平时代',\n",
       " '论美国的民主',\n",
       " '朱镕基答记者问',\n",
       " '如彗星划过夜空',\n",
       " '文明的冲突与世界秩序的重建',\n",
       " '极权主义的起源',\n",
       " '论自由',\n",
       " '公正',\n",
       " '论中国',\n",
       " '我們最幸福',\n",
       " '国家的常识',\n",
       " '兄弟',\n",
       " '牛棚杂忆',\n",
       " '干校六记',\n",
       " '自由选择',\n",
       " '利维坦',\n",
       " '独裁者手册']"
      ]
     },
     "execution_count": 491,
     "metadata": {},
     "output_type": "execute_result"
    }
   ],
   "source": [
    "title[:20]"
   ]
  },
  {
   "cell_type": "code",
   "execution_count": 559,
   "metadata": {
    "ExecuteTime": {
     "end_time": "2019-06-26T12:12:16.780549Z",
     "start_time": "2019-06-26T12:12:12.178637Z"
    },
    "scrolled": true
   },
   "outputs": [
    {
     "data": {
      "image/png": "[encoded data removed]",
      "text/plain": [
       "<Figure size 432x288 with 1 Axes>"
      ]
     },
     "metadata": {},
     "output_type": "display_data"
    }
   ],
   "source": [
    "x = range(0,15)\n",
    "y =  newfreq[0]\n",
    "plt.plot(x, y, color = 'tomato', label = title[0])\n",
    "y12 = newfreq[1]\n",
    "plt.plot(x, y12, color = 'maroon', label = title[1] )\n",
    "y1 = newfreq[2]\n",
    "plt.plot(x, y1, color = 'm', label = title[2] )\n",
    "y2 = newfreq[3]\n",
    "plt.plot(x, y2, color = 'aquamarine', label = title[3])\n",
    "y3 = newfreq[4]\n",
    "plt.plot(x, y3, color = 'rebeccapurple', label = title[4])\n",
    "y4 = newfreq[5]\n",
    "plt.plot(x, y4, color = 'coral', label = title[5])\n",
    "y5 = newfreq[6]\n",
    "plt.plot(x, y5, color = 'cornflowerblue', label = title[6])\n",
    "y6 = newfreq[7]\n",
    "plt.plot(x, y6, color = 'darkcyan', label = title[7])\n",
    "y7 = newfreq[8]\n",
    "plt.plot(x, y7, color = 'orange', label = title[8])\n",
    "y8 = newfreq[9]\n",
    "plt.plot(x, y8, color = 'gray', label = title[9] )\n",
    "y9 = newfreq[10]\n",
    "plt.plot(x, y9, color = 'peru', label = title[10])\n",
    "y10 = newfreq[11]\n",
    "plt.plot(x, y10, color = 'pink', label = title[11])\n",
    "y11 = newfreq[12]\n",
    "plt.plot(x, y11, color = 'sienna', label =title[12])\n",
    "\n",
    "for i in newfreq[13:]:\n",
    "    y12 = i\n",
    "    plt.plot(x, y12, color = 'gray')\n",
    "    \n",
    "plt.xticks(range(0,15), Fontsize = 8)\n",
    "#plt.ylim(-5, 40)\n",
    "plt.xlabel('Descending Years')\n",
    "plt.ylabel('Thu number of books users take an interst in')\n",
    "plt.title('Temporal Variation of Political Books')\n",
    "\n",
    "plt.legend(fontsize = 6.5)\n",
    "#plt.savefig('/users/zhengyiliang/Desktop/temporal_variation.pdf', bbox_inches='tight')\n",
    "plt.show()"
   ]
  },
  {
   "cell_type": "markdown",
   "metadata": {},
   "source": [
    "### compute zscore"
   ]
  },
  {
   "cell_type": "code",
   "execution_count": 505,
   "metadata": {
    "ExecuteTime": {
     "end_time": "2019-06-26T11:20:41.211936Z",
     "start_time": "2019-06-26T11:20:41.205204Z"
    }
   },
   "outputs": [
    {
     "data": {
      "text/plain": [
       "[[225, 405, 445, 313, 200, 111, 68, 38, 56, 63, 30],\n",
       " [3, 124, 173, 121, 120, 107, 110, 132, 171, 240, 112],\n",
       " [6, 17, 58, 85, 64, 41, 57, 28, 17, 22, 15, 25, 34, 17],\n",
       " [5, 6, 2, 6, 24, 177, 55, 40, 29, 43, 57, 29],\n",
       " [1, 2, 17, 29, 52, 48, 66, 59, 42, 28, 18, 21, 21, 25, 15]]"
      ]
     },
     "execution_count": 505,
     "metadata": {},
     "output_type": "execute_result"
    }
   ],
   "source": [
    "newfreq[:5]"
   ]
  },
  {
   "cell_type": "code",
   "execution_count": 518,
   "metadata": {
    "ExecuteTime": {
     "end_time": "2019-06-26T11:48:49.865180Z",
     "start_time": "2019-06-26T11:48:49.680236Z"
    },
    "collapsed": true
   },
   "outputs": [],
   "source": [
    "u = []\n",
    "for i in range(2005, 2020):\n",
    "    book_y =all_books[all_books['updated_time'].dt.year == i] \n",
    "    x = len(book_y)/len(book_y.drop_duplicates(['book_id'], inplace = False))\n",
    "    u.append(x)    "
   ]
  },
  {
   "cell_type": "code",
   "execution_count": 519,
   "metadata": {
    "ExecuteTime": {
     "end_time": "2019-06-26T11:48:51.254730Z",
     "start_time": "2019-06-26T11:48:51.249136Z"
    },
    "scrolled": true
   },
   "outputs": [
    {
     "data": {
      "text/plain": [
       "[1.7,\n",
       " 2.005128205128205,\n",
       " 2.5953177257525084,\n",
       " 3.0926143024618993,\n",
       " 3.8165548098434003,\n",
       " 3.6673835125448027,\n",
       " 3.8552354181307096,\n",
       " 3.88771186440678,\n",
       " 3.3215627347858754,\n",
       " 2.5142857142857142,\n",
       " 2.3642143505903723,\n",
       " 2.2925347222222223,\n",
       " 2.553872053872054,\n",
       " 2.7925089179548155,\n",
       " 1.990950226244344]"
      ]
     },
     "execution_count": 519,
     "metadata": {},
     "output_type": "execute_result"
    }
   ],
   "source": [
    "u # the average time a book was tagged from 2005 to 2019"
   ]
  },
  {
   "cell_type": "code",
   "execution_count": 514,
   "metadata": {
    "ExecuteTime": {
     "end_time": "2019-06-26T11:46:50.045081Z",
     "start_time": "2019-06-26T11:46:50.041062Z"
    },
    "collapsed": true
   },
   "outputs": [],
   "source": [
    "u = dict(zip(range(2005, 2020), u))"
   ]
  },
  {
   "cell_type": "code",
   "execution_count": 515,
   "metadata": {
    "ExecuteTime": {
     "end_time": "2019-06-26T11:46:51.448505Z",
     "start_time": "2019-06-26T11:46:51.438267Z"
    }
   },
   "outputs": [
    {
     "data": {
      "text/plain": [
       "{2005: 1.7,\n",
       " 2006: 2.005128205128205,\n",
       " 2007: 2.5953177257525084,\n",
       " 2008: 3.0926143024618993,\n",
       " 2009: 3.8165548098434003,\n",
       " 2010: 3.6673835125448027,\n",
       " 2011: 3.8552354181307096,\n",
       " 2012: 3.88771186440678,\n",
       " 2013: 3.3215627347858754,\n",
       " 2014: 2.5142857142857142,\n",
       " 2015: 2.3642143505903723,\n",
       " 2016: 2.2925347222222223,\n",
       " 2017: 2.553872053872054,\n",
       " 2018: 2.7925089179548155,\n",
       " 2019: 1.990950226244344}"
      ]
     },
     "execution_count": 515,
     "metadata": {},
     "output_type": "execute_result"
    }
   ],
   "source": [
    "u"
   ]
  },
  {
   "cell_type": "code",
   "execution_count": 516,
   "metadata": {
    "ExecuteTime": {
     "end_time": "2019-06-26T11:46:56.003987Z",
     "start_time": "2019-06-26T11:46:55.649068Z"
    },
    "collapsed": true
   },
   "outputs": [],
   "source": [
    "std = []\n",
    "for i in range(2005, 2020):\n",
    "    l = []\n",
    "    book_y = all_books[all_books['updated_time'].dt.year == i] \n",
    "    book_y.reset_index(drop = True, inplace = True)\n",
    "    book = book_y['book_id']\n",
    "    book = pd.DataFrame(book, columns = ['book_id'])\n",
    "    book['frequency'] = book.groupby('book_id')['book_id'].transform('count')\n",
    "    book_new = book.drop_duplicates(['book_id'], inplace = False)\n",
    "    \n",
    "    for j in book_new['frequency']:\n",
    "        s = np.square(j - u[i])\n",
    "        l.append(s)\n",
    "    std_y = np.sqrt(sum(l)/len(book_new))\n",
    "    std.append(std_y)    "
   ]
  },
  {
   "cell_type": "code",
   "execution_count": 517,
   "metadata": {
    "ExecuteTime": {
     "end_time": "2019-06-26T11:47:00.582256Z",
     "start_time": "2019-06-26T11:47:00.574855Z"
    }
   },
   "outputs": [
    {
     "data": {
      "text/plain": [
       "[1.24899959967968,\n",
       " 2.6765792096657055,\n",
       " 4.424027374473049,\n",
       " 7.168682988628289,\n",
       " 12.459415771797206,\n",
       " 14.593013154894917,\n",
       " 15.67013664134745,\n",
       " 13.229961560791795,\n",
       " 11.006055677211538,\n",
       " 6.314589324937079,\n",
       " 5.694855626297359,\n",
       " 5.461387170415756,\n",
       " 6.8072025746791285,\n",
       " 8.187407517785148,\n",
       " 4.728359563838641]"
      ]
     },
     "execution_count": 517,
     "metadata": {},
     "output_type": "execute_result"
    }
   ],
   "source": [
    "std"
   ]
  },
  {
   "cell_type": "code",
   "execution_count": 520,
   "metadata": {
    "ExecuteTime": {
     "end_time": "2019-06-26T11:48:57.308518Z",
     "start_time": "2019-06-26T11:48:57.300089Z"
    },
    "collapsed": true
   },
   "outputs": [],
   "source": [
    "zscore = []\n",
    "for j in freq:\n",
    "    zbook = []\n",
    "    for i in j:\n",
    "        idx = j.index(i)\n",
    "        z = (i - u[idx])/std[idx]\n",
    "        zbook.append(z)\n",
    "    zscore.append(zbook)"
   ]
  },
  {
   "cell_type": "code",
   "execution_count": 522,
   "metadata": {
    "ExecuteTime": {
     "end_time": "2019-06-26T11:49:13.465537Z",
     "start_time": "2019-06-26T11:49:13.459368Z"
    }
   },
   "outputs": [
    {
     "data": {
      "text/plain": [
       "[-1.3610893073432402,\n",
       " -1.3610893073432402,\n",
       " -1.3610893073432402,\n",
       " -1.3610893073432402,\n",
       " 17.75231272808324,\n",
       " 27.501696341090234,\n",
       " 28.151941152692846,\n",
       " 23.36456434247518,\n",
       " 17.870020199193103,\n",
       " 17.180169398711495,\n",
       " 11.525452084565703,\n",
       " 6.538167715192309,\n",
       " 7.851408469160658,\n",
       " 7.353669760697642,\n",
       " 5.923629410073241]"
      ]
     },
     "execution_count": 522,
     "metadata": {},
     "output_type": "execute_result"
    }
   ],
   "source": [
    "zscore[0]"
   ]
  },
  {
   "cell_type": "code",
   "execution_count": 525,
   "metadata": {
    "ExecuteTime": {
     "end_time": "2019-06-26T11:55:12.204225Z",
     "start_time": "2019-06-26T11:55:12.199200Z"
    }
   },
   "outputs": [
    {
     "data": {
      "text/plain": [
       "100"
      ]
     },
     "execution_count": 525,
     "metadata": {},
     "output_type": "execute_result"
    }
   ],
   "source": [
    "len(newfreq)"
   ]
  },
  {
   "cell_type": "code",
   "execution_count": 523,
   "metadata": {
    "ExecuteTime": {
     "end_time": "2019-06-26T11:50:47.927558Z",
     "start_time": "2019-06-26T11:50:47.915708Z"
    }
   },
   "outputs": [
    {
     "data": {
      "text/plain": [
       "[[225, 405, 445, 313, 200, 111, 68, 38, 56, 63, 30],\n",
       " [3, 124, 173, 121, 120, 107, 110, 132, 171, 240, 112],\n",
       " [6, 17, 58, 85, 64, 41, 57, 28, 17, 22, 15, 25, 34, 17],\n",
       " [5, 6, 2, 6, 24, 177, 55, 40, 29, 43, 57, 29],\n",
       " [1, 2, 17, 29, 52, 48, 66, 59, 42, 28, 18, 21, 21, 25, 15]]"
      ]
     },
     "execution_count": 523,
     "metadata": {},
     "output_type": "execute_result"
    }
   ],
   "source": [
    "newfreq[:5]"
   ]
  },
  {
   "cell_type": "code",
   "execution_count": 543,
   "metadata": {
    "ExecuteTime": {
     "end_time": "2019-06-26T12:03:52.677704Z",
     "start_time": "2019-06-26T12:03:52.671258Z"
    }
   },
   "outputs": [
    {
     "data": {
      "text/plain": [
       "10"
      ]
     },
     "execution_count": 543,
     "metadata": {},
     "output_type": "execute_result"
    }
   ],
   "source": [
    "len(newfreq[90])"
   ]
  },
  {
   "cell_type": "code",
   "execution_count": 526,
   "metadata": {
    "ExecuteTime": {
     "end_time": "2019-06-26T11:59:43.673408Z",
     "start_time": "2019-06-26T11:59:43.662448Z"
    },
    "collapsed": true
   },
   "outputs": [],
   "source": [
    "freq_zscore = []\n",
    "for i in range(100):\n",
    "    num = 15 - len(newfreq[i])\n",
    "    freq_z = []\n",
    "    for j in range(num, 15):\n",
    "        freq_z.append(zscore[i][j])\n",
    "    freq_zscore.append(freq_z)       "
   ]
  },
  {
   "cell_type": "code",
   "execution_count": 546,
   "metadata": {
    "ExecuteTime": {
     "end_time": "2019-06-26T12:05:09.824509Z",
     "start_time": "2019-06-26T12:05:09.818408Z"
    }
   },
   "outputs": [
    {
     "data": {
      "text/plain": [
       "15"
      ]
     },
     "execution_count": 546,
     "metadata": {},
     "output_type": "execute_result"
    }
   ],
   "source": [
    "len(freq_zscore[1])"
   ]
  },
  {
   "cell_type": "code",
   "execution_count": 547,
   "metadata": {
    "ExecuteTime": {
     "end_time": "2019-06-26T12:05:21.721943Z",
     "start_time": "2019-06-26T12:05:21.711616Z"
    }
   },
   "outputs": [
    {
     "data": {
      "text/plain": [
       "[17.75231272808324,\n",
       " 27.501696341090234,\n",
       " 28.151941152692846,\n",
       " 23.36456434247518,\n",
       " 17.870020199193103,\n",
       " 17.180169398711495,\n",
       " 11.525452084565703,\n",
       " 6.538167715192309,\n",
       " 7.851408469160658,\n",
       " 7.353669760697642,\n",
       " 5.923629410073241,\n",
       " 0,\n",
       " 0,\n",
       " 0,\n",
       " 0]"
      ]
     },
     "execution_count": 547,
     "metadata": {},
     "output_type": "execute_result"
    }
   ],
   "source": [
    "freq_zscore[0]"
   ]
  },
  {
   "cell_type": "code",
   "execution_count": 544,
   "metadata": {
    "ExecuteTime": {
     "end_time": "2019-06-26T12:05:00.268166Z",
     "start_time": "2019-06-26T12:05:00.261009Z"
    },
    "collapsed": true
   },
   "outputs": [],
   "source": [
    "for i in freq_zscore:\n",
    "    i.extend([0 for j in range(15-len(i))]) "
   ]
  },
  {
   "cell_type": "code",
   "execution_count": 548,
   "metadata": {
    "ExecuteTime": {
     "end_time": "2019-06-26T12:05:48.213988Z",
     "start_time": "2019-06-26T12:05:48.206662Z"
    },
    "collapsed": true
   },
   "outputs": [],
   "source": [
    "for i in freq_zscore:\n",
    "    for j, k in enumerate(i):\n",
    "        if k == 0:\n",
    "            i[j] = None"
   ]
  },
  {
   "cell_type": "code",
   "execution_count": 578,
   "metadata": {
    "ExecuteTime": {
     "end_time": "2019-06-26T12:39:20.397429Z",
     "start_time": "2019-06-26T12:39:18.002623Z"
    }
   },
   "outputs": [
    {
     "data": {
      "image/png": "[encoded data removed]",
      "text/plain": [
       "<Figure size 432x288 with 1 Axes>"
      ]
     },
     "metadata": {},
     "output_type": "display_data"
    }
   ],
   "source": [
    "x = range(0,15)\n",
    "#y =  freq_zscore[0]\n",
    "#plt.plot(x, y, color = 'tomato', label = title[0])\n",
    "#y12 = freq_zscore[1]\n",
    "#plt.plot(x, y12, color = 'maroon', label = title[1] )\n",
    "y1 = freq_zscore[2]\n",
    "plt.plot(x, y1, color = 'm', label = title[2] )\n",
    "y2 = freq_zscore[3]\n",
    "plt.plot(x, y2, color = 'aquamarine', label = title[3])\n",
    "y3 = freq_zscore[4]\n",
    "plt.plot(x, y3, color = 'rebeccapurple', label = title[4])\n",
    "y4 = freq_zscore[5]\n",
    "plt.plot(x, y4, color = 'coral', label = title[5])\n",
    "y5 = freq_zscore[6]\n",
    "plt.plot(x, y5, color = 'cornflowerblue', label = title[6])\n",
    "y6 = freq_zscore[7]\n",
    "plt.plot(x, y6, color = 'darkcyan', label = title[7])\n",
    "y7 = freq_zscore[8]\n",
    "plt.plot(x, y7, color = 'orange', label = title[8])\n",
    "y8 = freq_zscore[9]\n",
    "plt.plot(x, y8, color = 'gray', label = title[9] )\n",
    "y9 = freq_zscore[10]\n",
    "plt.plot(x, y9, color = 'peru', label = title[10])\n",
    "y10 = freq_zscore[11]\n",
    "plt.plot(x, y10, color = 'pink', label = title[11])\n",
    "y11 = freq_zscore[12]\n",
    "plt.plot(x, y11, color = 'sienna', label =title[12])\n",
    "\n",
    "y13 = freq_zscore[13]\n",
    "plt.plot(x, y13, color = 'indianred')\n",
    "y14 = freq_zscore[14]\n",
    "plt.plot(x, y14, color = 'red')\n",
    "y15 = freq_zscore[15]\n",
    "plt.plot(x, y15, color = 'peru')\n",
    "y16 = freq_zscore[16]\n",
    "plt.plot(x, y16, color = 'darkgoldenrod')\n",
    "y17 = freq_zscore[17]\n",
    "plt.plot(x, y17, color = 'darkkhaki')\n",
    "y18 = freq_zscore[18]\n",
    "plt.plot(x, y18, color = 'olivedrab')\n",
    "y19 = freq_zscore[19]\n",
    "plt.plot(x, y19, color = 'teal')\n",
    "y20 = freq_zscore[20]\n",
    "plt.plot(x, y20, color = 'steelblue')\n",
    "y21 = freq_zscore[21]\n",
    "plt.plot(x, y21, color = 'mediumpurple')\n",
    "\n",
    "\n",
    "\n",
    "#for i in freq_zscore[21:25]:\n",
    "    #y100 = i\n",
    "    #plt.plot(x, y100, color = 'gray')\n",
    "    \n",
    "plt.xticks(range(0,15), Fontsize = 8)\n",
    "plt.ylim(-1, 18)\n",
    "plt.xlabel('Descending Years')\n",
    "plt.ylabel('The number of times users tag (zscore)')\n",
    "plt.title('Temporal Variation of Popular Political Books')\n",
    "\n",
    "plt.legend(fontsize = 6.5)\n",
    "plt.savefig('/users/zhengyiliang/Desktop/temporal_variation_zscore2.pdf', bbox_inches='tight')\n",
    "plt.show()"
   ]
  },
  {
   "cell_type": "code",
   "execution_count": 580,
   "metadata": {
    "ExecuteTime": {
     "end_time": "2019-06-26T12:46:35.815591Z",
     "start_time": "2019-06-26T12:46:33.605873Z"
    }
   },
   "outputs": [
    {
     "data": {
      "image/png": "[encoded data removed]",
      "text/plain": [
       "<Figure size 432x288 with 1 Axes>"
      ]
     },
     "metadata": {},
     "output_type": "display_data"
    }
   ],
   "source": [
    "x = range(0,15)\n",
    "#y =  freq_zscore[0]\n",
    "#plt.plot(x, y, color = 'tomato', label = title[0])\n",
    "#y12 = freq_zscore[1]\n",
    "#plt.plot(x, y12, color = 'maroon', label = title[1] )\n",
    "\n",
    "y1 = freq_zscore[21]\n",
    "plt.plot(x, y1, color = 'm', label = title[21] )\n",
    "y2 = freq_zscore[22]\n",
    "plt.plot(x, y2, color = 'aquamarine', label = title[22])\n",
    "y3 = freq_zscore[23]\n",
    "plt.plot(x, y3, color = 'rebeccapurple', label = title[23])\n",
    "y4 = freq_zscore[24]\n",
    "plt.plot(x, y4, color = 'coral', label = title[24])\n",
    "y5 = freq_zscore[25]\n",
    "plt.plot(x, y5, color = 'cornflowerblue', label = title[25])\n",
    "y6 = freq_zscore[26]\n",
    "plt.plot(x, y6, color = 'darkcyan', label = title[26])\n",
    "y7 = freq_zscore[27]\n",
    "plt.plot(x, y7, color = 'orange', label = title[27])\n",
    "y8 = freq_zscore[28]\n",
    "plt.plot(x, y8, color = 'gray', label = title[28] )\n",
    "y9 = freq_zscore[29]\n",
    "plt.plot(x, y9, color = 'peru', label = title[29])\n",
    "y10 = freq_zscore[30]\n",
    "plt.plot(x, y10, color = 'pink', label = title[30])\n",
    "y11 = freq_zscore[31]\n",
    "plt.plot(x, y11, color = 'sienna', label =title[31])\n",
    "\n",
    "y13 = freq_zscore[32]\n",
    "plt.plot(x, y13, color = 'indianred')\n",
    "y14 = freq_zscore[33]\n",
    "plt.plot(x, y14, color = 'red')\n",
    "y15 = freq_zscore[34]\n",
    "plt.plot(x, y15, color = 'peru')\n",
    "y16 = freq_zscore[35]\n",
    "plt.plot(x, y16, color = 'darkgoldenrod')\n",
    "y17 = freq_zscore[36]\n",
    "plt.plot(x, y17, color = 'darkkhaki')\n",
    "y18 = freq_zscore[37]\n",
    "plt.plot(x, y18, color = 'olivedrab')\n",
    "y19 = freq_zscore[38]\n",
    "plt.plot(x, y19, color = 'teal')\n",
    "y20 = freq_zscore[39]\n",
    "plt.plot(x, y20, color = 'steelblue')\n",
    "y21 = freq_zscore[40]\n",
    "plt.plot(x, y21, color = 'mediumpurple')\n",
    "\n",
    "\n",
    "\n",
    "\n",
    "#for i in freq_zscore[21:50]:\n",
    "    #y100 = i\n",
    "    #plt.plot(x, y100, color = 'lightsteelblue')\n",
    "    \n",
    "plt.xticks(range(0,15), Fontsize = 8)\n",
    "#plt.ylim(-1, 18)\n",
    "plt.xlabel('Descending Years')\n",
    "plt.ylabel('The number of times users tag (zscore)')\n",
    "plt.title('Temporal Variation of Less Popular Political Books')\n",
    "\n",
    "plt.legend(fontsize = 6.5)\n",
    "plt.savefig('/users/zhengyiliang/Desktop/temporal_variation_zscore3.pdf', bbox_inches='tight')\n",
    "plt.show()"
   ]
  },
  {
   "cell_type": "code",
   "execution_count": 457,
   "metadata": {
    "ExecuteTime": {
     "end_time": "2019-06-26T09:37:52.085738Z",
     "start_time": "2019-06-26T09:37:52.081862Z"
    },
    "collapsed": true
   },
   "outputs": [],
   "source": [
    "y12 = zscore[12]\n",
    "plt.plot(x, y12, color = 'maroon', label = '1984' )\n",
    "y1 = zscore[1]\n",
    "plt.plot(x, y1, color = 'm', label = '中国历代政治得失' )\n",
    "y2 = zscore[2]\n",
    "plt.plot(x, y2, color = 'aquamarine', label = '历史深处的忧虑')\n",
    "y3 = zscore[3]\n",
    "plt.plot(x, y3, color = 'rebeccapurple', label = '君主论')\n",
    "y4 = zscore[4]\n",
    "plt.plot(x, y4, color = 'coral', label = '论自由')\n",
    "y5 = zscore[5]\n",
    "plt.plot(x, y5, color = 'cornflowerblue', label = '论美国的民主')\n",
    "y6 = zscore[6]\n",
    "plt.plot(x, y6, color = 'darkcyan', label = '社会契约论')\n",
    "y7 = zscore[7]\n",
    "plt.plot(x, y7, color = 'orange', label = '毛泽东传' )\n",
    "y8 = zscore[8]\n",
    "plt.plot(x, y8, color = 'gray', label = '邓小平时代' )\n",
    "y9 = zscore[9]\n",
    "plt.plot(x, y9, color = 'peru', label = '毛泽东选集 第一卷' )\n",
    "y10 = zscore[10]\n",
    "plt.plot(x, y10, color = 'pink', label = '朱镕基答记者问' )\n",
    "y11 = zscore[11]\n",
    "plt.plot(x, y11, color = 'sienna', label = '共产党宣言')"
   ]
  },
  {
   "cell_type": "code",
   "execution_count": 459,
   "metadata": {
    "ExecuteTime": {
     "end_time": "2019-06-26T09:38:12.654756Z",
     "start_time": "2019-06-26T09:38:12.650556Z"
    },
    "collapsed": true
   },
   "outputs": [],
   "source": [
    "c = []\n",
    "for i in b:\n",
    "    if i != 0:\n",
    "        c.append(i)"
   ]
  },
  {
   "cell_type": "markdown",
   "metadata": {
    "ExecuteTime": {
     "end_time": "2019-06-26T09:38:17.417393Z",
     "start_time": "2019-06-26T09:38:17.408610Z"
    }
   },
   "source": [
    "### case study"
   ]
  },
  {
   "cell_type": "code",
   "execution_count": 450,
   "metadata": {
    "ExecuteTime": {
     "end_time": "2019-06-26T09:35:54.012371Z",
     "start_time": "2019-06-26T09:35:54.005465Z"
    },
    "scrolled": false
   },
   "outputs": [
    {
     "data": {
      "text/plain": [
       "[0, 0, 0, 0, 225, 405, 445, 313, 200, 111, 68, 38, 56, 63, 30]"
      ]
     },
     "execution_count": 450,
     "metadata": {},
     "output_type": "execute_result"
    }
   ],
   "source": [
    "b"
   ]
  },
  {
   "cell_type": "code",
   "execution_count": 424,
   "metadata": {
    "ExecuteTime": {
     "end_time": "2019-06-26T09:29:26.545972Z",
     "start_time": "2019-06-26T09:29:26.542052Z"
    },
    "collapsed": true
   },
   "outputs": [],
   "source": [
    "new = [j for i in freq for j in i if j != 0]"
   ]
  },
  {
   "cell_type": "code",
   "execution_count": 425,
   "metadata": {
    "ExecuteTime": {
     "end_time": "2019-06-26T09:29:28.068426Z",
     "start_time": "2019-06-26T09:29:28.056944Z"
    }
   },
   "outputs": [
    {
     "data": {
      "text/plain": [
       "[225, 405, 445, 313, 200, 111, 68, 38, 56, 63, 30]"
      ]
     },
     "execution_count": 425,
     "metadata": {},
     "output_type": "execute_result"
    }
   ],
   "source": [
    "new"
   ]
  },
  {
   "cell_type": "code",
   "execution_count": 453,
   "metadata": {
    "ExecuteTime": {
     "end_time": "2019-06-26T09:36:39.582812Z",
     "start_time": "2019-06-26T09:36:39.572472Z"
    },
    "collapsed": true
   },
   "outputs": [],
   "source": [
    "listOfnum = [12, 44, 56, 45, 34, 3, 4, 0, 0]\n",
    "for elem in listOfnum:\n",
    "    if elem == 0:\n",
    "        listOfnum.remove(elem)"
   ]
  },
  {
   "cell_type": "code",
   "execution_count": 454,
   "metadata": {
    "ExecuteTime": {
     "end_time": "2019-06-26T09:36:41.616009Z",
     "start_time": "2019-06-26T09:36:41.610095Z"
    }
   },
   "outputs": [
    {
     "data": {
      "text/plain": [
       "[12, 44, 56, 45, 34, 3, 4, 0]"
      ]
     },
     "execution_count": 454,
     "metadata": {},
     "output_type": "execute_result"
    }
   ],
   "source": [
    "listOfnum"
   ]
  },
  {
   "cell_type": "code",
   "execution_count": 435,
   "metadata": {
    "ExecuteTime": {
     "end_time": "2019-06-26T09:33:16.943124Z",
     "start_time": "2019-06-26T09:33:16.939057Z"
    },
    "collapsed": true
   },
   "outputs": [],
   "source": [
    "for i in freq[0]:\n",
    "    if i == 0:\n",
    "        freq[0].remove(i)"
   ]
  },
  {
   "cell_type": "code",
   "execution_count": 462,
   "metadata": {
    "ExecuteTime": {
     "end_time": "2019-06-26T09:40:42.043486Z",
     "start_time": "2019-06-26T09:40:42.022941Z"
    },
    "collapsed": true
   },
   "outputs": [],
   "source": [
    "newfreq = []\n",
    "for i in freq:\n",
    "    newlist = []\n",
    "    for j in i:\n",
    "        if j != 0:\n",
    "            newlist.append(j)\n",
    "    newfreq.append(newlist)"
   ]
  },
  {
   "cell_type": "code",
   "execution_count": 463,
   "metadata": {
    "ExecuteTime": {
     "end_time": "2019-06-26T09:40:48.442932Z",
     "start_time": "2019-06-26T09:40:48.436298Z"
    }
   },
   "outputs": [
    {
     "data": {
      "text/plain": [
       "[[225, 405, 445, 313, 200, 111, 68, 38, 56, 63, 30]]"
      ]
     },
     "execution_count": 463,
     "metadata": {},
     "output_type": "execute_result"
    }
   ],
   "source": [
    "newfreq"
   ]
  },
  {
   "cell_type": "code",
   "execution_count": 466,
   "metadata": {
    "ExecuteTime": {
     "end_time": "2019-06-26T10:43:16.907553Z",
     "start_time": "2019-06-26T10:43:16.901282Z"
    },
    "collapsed": true
   },
   "outputs": [],
   "source": [
    "for i in newfreq:\n",
    "    i.extend([0 for j in range(15-len(i))])   "
   ]
  },
  {
   "cell_type": "code",
   "execution_count": 467,
   "metadata": {
    "ExecuteTime": {
     "end_time": "2019-06-26T10:43:24.340097Z",
     "start_time": "2019-06-26T10:43:24.332684Z"
    }
   },
   "outputs": [
    {
     "data": {
      "text/plain": [
       "[[225, 405, 445, 313, 200, 111, 68, 38, 56, 63, 30, 0, 0, 0, 0]]"
      ]
     },
     "execution_count": 467,
     "metadata": {},
     "output_type": "execute_result"
    }
   ],
   "source": [
    "newfreq"
   ]
  },
  {
   "cell_type": "code",
   "execution_count": 465,
   "metadata": {
    "ExecuteTime": {
     "end_time": "2019-06-26T10:39:06.330290Z",
     "start_time": "2019-06-26T10:39:06.326312Z"
    },
    "collapsed": true
   },
   "outputs": [],
   "source": [
    "#help(np.repeat(0, 3))"
   ]
  },
  {
   "cell_type": "code",
   "execution_count": 401,
   "metadata": {
    "ExecuteTime": {
     "end_time": "2019-06-26T09:16:38.720988Z",
     "start_time": "2019-06-26T09:16:38.709496Z"
    },
    "collapsed": true
   },
   "outputs": [],
   "source": [
    "for i in freq:\n",
    "    for j, k in enumerate(i):\n",
    "        if k == 0:\n",
    "            i[j] = None"
   ]
  },
  {
   "cell_type": "code",
   "execution_count": 402,
   "metadata": {
    "ExecuteTime": {
     "end_time": "2019-06-26T09:16:44.793980Z",
     "start_time": "2019-06-26T09:16:44.769531Z"
    }
   },
   "outputs": [
    {
     "data": {
      "text/plain": [
       "[[None, None, None, None, 225, 405, 445, 313, 200, 111, 68, 38, 56, 63, 30]]"
      ]
     },
     "execution_count": 402,
     "metadata": {},
     "output_type": "execute_result"
    }
   ],
   "source": [
    "freq"
   ]
  },
  {
   "cell_type": "code",
   "execution_count": null,
   "metadata": {
    "collapsed": true
   },
   "outputs": [],
   "source": [
    "#data1\n",
    "x=['200101','200102','200103','200104','200105','200106','200107','200108',\n",
    "   '200109','200110','200111','200112','200201','200202','200203','200204',\n",
    "   '200205','200206','200207','200208','200209']\n",
    "x = [dt.datetime.strptime(i, '%Y%m') for i in x] \n",
    "y=[30.2,37.6,34.7,27.1,31.9,43.9,42.4,42.3,34.4,40.0,47.2,\n",
    "   40.8,34.7,27.1,31.9,43.9,42.4,42.3,34.4,40.0,47.2]\n",
    "\n",
    "#data2   \n",
    "q=['200106','200107','200108','200206','200207','200208']\n",
    "q = [dt.datetime.strptime(i, '%Y%m') for i in q] \n",
    "w=[19.7,18.6,15.2,17.3,16.9,18.2]\n",
    "\n",
    "for i, xi in enumerate(x):\n",
    "    if xi not in q:\n",
    "        w.insert(i, None)"
   ]
  },
  {
   "cell_type": "code",
   "execution_count": 376,
   "metadata": {
    "ExecuteTime": {
     "end_time": "2019-06-25T14:45:37.037535Z",
     "start_time": "2019-06-25T14:45:36.398694Z"
    }
   },
   "outputs": [
    {
     "data": {
      "image/png": "[encoded data removed]",
      "text/plain": [
       "<Figure size 432x288 with 1 Axes>"
      ]
     },
     "metadata": {},
     "output_type": "display_data"
    }
   ],
   "source": [
    "x = range(0,5)\n",
    "y =  [12, 14, 60,30, None]\n",
    "\n",
    "plt.plot(x, y, color = 'tomato', label = '民主的细节' )\n",
    "#y12 = freq_1984\n",
    "#plt.plot(x, y12, color = 'maroon', label = '1984' )\n",
    "#y1 = freq[1]\n",
    "#plt.plot(x, y1, color = 'm', label = '中国历代政治得失' )\n",
    "\n",
    "plt.xticks(range(0, 5), Fontsize = 8)\n",
    "#plt.yticks([200, 300, 400, 500])\n",
    "plt.xlabel('Year')\n",
    "plt.ylabel('The Number of Books Users Take an Interest in')\n",
    "plt.title('Temporal Variation of Political Books')\n",
    "\n",
    "plt.legend(fontsize = 6.5)\n",
    "#plt.savefig('/users/zhengyiliang/Desktop/temporal_variation.png', bbox_inches='tight')\n",
    "plt.show()"
   ]
  },
  {
   "cell_type": "code",
   "execution_count": null,
   "metadata": {
    "collapsed": true
   },
   "outputs": [],
   "source": []
  }
 ],
 "metadata": {
  "kernelspec": {
   "display_name": "Python 3",
   "language": "python",
   "name": "python3"
  },
  "language_info": {
   "codemirror_mode": {
    "name": "ipython",
    "version": 3
   },
   "file_extension": ".py",
   "mimetype": "text/x-python",
   "name": "python",
   "nbconvert_exporter": "python",
   "pygments_lexer": "ipython3",
   "version": "3.6.1"
  },
  "toc": {
   "base_numbering": 1,
   "nav_menu": {},
   "number_sections": true,
   "sideBar": true,
   "skip_h1_title": false,
   "title_cell": "Table of Contents",
   "title_sidebar": "Contents",
   "toc_cell": false,
   "toc_position": {},
   "toc_section_display": true,
   "toc_window_display": true
  }
 },
 "nbformat": 4,
 "nbformat_minor": 2
}
